{
  "nbformat": 4,
  "nbformat_minor": 0,
  "metadata": {
    "colab": {
      "name": "thesis_another_attempt.ipynb",
      "provenance": []
    },
    "kernelspec": {
      "display_name": "Python 3",
      "name": "python3"
    },
    "language_info": {
      "name": "python"
    }
  },
  "cells": [
    {
      "cell_type": "code",
      "metadata": {
        "colab": {
          "background_save": true
        },
        "id": "hYzeE0jGIiGA",
        "outputId": "91d8ffc3-5e45-4570-8675-3c2052c1ebd3"
      },
      "source": [
        "pip install sklearn"
      ],
      "execution_count": null,
      "outputs": [
        {
          "output_type": "stream",
          "text": [
            "Requirement already satisfied: sklearn in /usr/local/lib/python3.7/dist-packages (0.0)\n",
            "Requirement already satisfied: scikit-learn in /usr/local/lib/python3.7/dist-packages (from sklearn) (0.22.2.post1)\n",
            "Requirement already satisfied: scipy>=0.17.0 in /usr/local/lib/python3.7/dist-packages (from scikit-learn->sklearn) (1.4.1)\n",
            "Requirement already satisfied: joblib>=0.11 in /usr/local/lib/python3.7/dist-packages (from scikit-learn->sklearn) (1.0.1)\n",
            "Requirement already satisfied: numpy>=1.11.0 in /usr/local/lib/python3.7/dist-packages (from scikit-learn->sklearn) (1.19.5)\n"
          ],
          "name": "stdout"
        }
      ]
    },
    {
      "cell_type": "code",
      "metadata": {
        "id": "CGKQHXDIIymW"
      },
      "source": [
        "from sklearn.linear_model import LinearRegression\n",
        "from sklearn.linear_model import LassoCV\n",
        "from sklearn.linear_model import Lasso\n",
        "from sklearn.linear_model import RidgeCV\n",
        "from sklearn.linear_model import ElasticNetCV\n",
        "from sklearn.linear_model import ElasticNet\n",
        "from sklearn.ensemble import RandomForestRegressor\n",
        "from sklearn.tree import DecisionTreeRegressor\n",
        "from sklearn.model_selection import train_test_split\n",
        "from sklearn.model_selection import cross_val_score\n",
        "from sklearn.model_selection import KFold\n",
        "import pandas as pd\n",
        "import numpy as np\n",
        "from matplotlib import pyplot as plt\n",
        "from sklearn import model_selection\n",
        "from sklearn.metrics import r2_score\n",
        "from sklearn.metrics import mean_absolute_error\n",
        "from sklearn.preprocessing import RobustScaler\n",
        "from sklearn.metrics import mean_squared_error\n",
        "from math import sqrt\n",
        "from sklearn.preprocessing import StandardScaler\n",
        "from sklearn.linear_model import Ridge\n",
        "from sklearn.svm import SVR\n",
        "from sklearn.model_selection import cross_validate\n",
        "from sklearn.preprocessing import StandardScaler\n",
        "from sklearn.model_selection import GridSearchCV\n",
        "from sklearn.pipeline import make_pipeline"
      ],
      "execution_count": null,
      "outputs": []
    },
    {
      "cell_type": "code",
      "metadata": {
        "id": "6Z5k8vCYJIgR"
      },
      "source": [
        "ds = pd.read_csv('bdata_dummies.csv')"
      ],
      "execution_count": null,
      "outputs": []
    },
    {
      "cell_type": "code",
      "metadata": {
        "colab": {
          "base_uri": "https://localhost:8080/",
          "height": 1000
        },
        "id": "uRvaoh9XNb0Q",
        "outputId": "1cd1527c-a5ba-43fb-e59f-03ffe2204f38"
      },
      "source": [
        "ds"
      ],
      "execution_count": null,
      "outputs": [
        {
          "output_type": "execute_result",
          "data": {
            "text/html": [
              "<div>\n",
              "<style scoped>\n",
              "    .dataframe tbody tr th:only-of-type {\n",
              "        vertical-align: middle;\n",
              "    }\n",
              "\n",
              "    .dataframe tbody tr th {\n",
              "        vertical-align: top;\n",
              "    }\n",
              "\n",
              "    .dataframe thead th {\n",
              "        text-align: right;\n",
              "    }\n",
              "</style>\n",
              "<table border=\"1\" class=\"dataframe\">\n",
              "  <thead>\n",
              "    <tr style=\"text-align: right;\">\n",
              "      <th></th>\n",
              "      <th>book_authors</th>\n",
              "      <th>book_title</th>\n",
              "      <th>book_desc</th>\n",
              "      <th>book_rating</th>\n",
              "      <th>book_rating_count</th>\n",
              "      <th>book_review_count</th>\n",
              "      <th>genres</th>\n",
              "      <th>anger</th>\n",
              "      <th>fear</th>\n",
              "      <th>happiness</th>\n",
              "      <th>sadness</th>\n",
              "      <th>surprise</th>\n",
              "      <th>emotion_index</th>\n",
              "      <th>16th Century</th>\n",
              "      <th>18th Century</th>\n",
              "      <th>19th Century</th>\n",
              "      <th>20th Century</th>\n",
              "      <th>21st Century</th>\n",
              "      <th>Abandoned</th>\n",
              "      <th>Abuse</th>\n",
              "      <th>Academic</th>\n",
              "      <th>Action</th>\n",
              "      <th>Adoption</th>\n",
              "      <th>Adult</th>\n",
              "      <th>Adult Fiction</th>\n",
              "      <th>Adventure</th>\n",
              "      <th>Africa</th>\n",
              "      <th>African American</th>\n",
              "      <th>African American Literature</th>\n",
              "      <th>Aliens</th>\n",
              "      <th>Alternate History</th>\n",
              "      <th>Amazon</th>\n",
              "      <th>American</th>\n",
              "      <th>American Civil War</th>\n",
              "      <th>American History</th>\n",
              "      <th>American Revolution</th>\n",
              "      <th>Americana</th>\n",
              "      <th>Amish</th>\n",
              "      <th>Ancient</th>\n",
              "      <th>Ancient History</th>\n",
              "      <th>...</th>\n",
              "      <th>Transgender</th>\n",
              "      <th>Travel</th>\n",
              "      <th>True Crime</th>\n",
              "      <th>True Story</th>\n",
              "      <th>Tudor Period</th>\n",
              "      <th>Turkish</th>\n",
              "      <th>Turkish Literature</th>\n",
              "      <th>Ukraine</th>\n",
              "      <th>Unfinished</th>\n",
              "      <th>Urban</th>\n",
              "      <th>Urban Fantasy</th>\n",
              "      <th>Vampires</th>\n",
              "      <th>Vegan</th>\n",
              "      <th>Vegetarian</th>\n",
              "      <th>Vegetarianism</th>\n",
              "      <th>Victorian</th>\n",
              "      <th>Video Games</th>\n",
              "      <th>War</th>\n",
              "      <th>Warfare</th>\n",
              "      <th>Weird Fiction</th>\n",
              "      <th>Werewolves</th>\n",
              "      <th>Western Africa</th>\n",
              "      <th>Western Romance</th>\n",
              "      <th>Westerns</th>\n",
              "      <th>Wildlife</th>\n",
              "      <th>Witchcraft</th>\n",
              "      <th>Witches</th>\n",
              "      <th>Wolves</th>\n",
              "      <th>Womens</th>\n",
              "      <th>Womens Fiction</th>\n",
              "      <th>World History</th>\n",
              "      <th>World War I</th>\n",
              "      <th>World War II</th>\n",
              "      <th>Writing</th>\n",
              "      <th>Young Adult</th>\n",
              "      <th>Young Adult Contemporary</th>\n",
              "      <th>Young Adult Fantasy</th>\n",
              "      <th>Young Adult Paranormal</th>\n",
              "      <th>Young Adult Romance</th>\n",
              "      <th>Zombies</th>\n",
              "    </tr>\n",
              "  </thead>\n",
              "  <tbody>\n",
              "    <tr>\n",
              "      <th>0</th>\n",
              "      <td>Suzanne Collins</td>\n",
              "      <td>The Hunger Games</td>\n",
              "      <td>Winning will make you famous. Losing means cer...</td>\n",
              "      <td>4.33</td>\n",
              "      <td>5519135</td>\n",
              "      <td>160706</td>\n",
              "      <td>Young Adult|Fiction|Science Fiction|Dystopia|F...</td>\n",
              "      <td>0.07</td>\n",
              "      <td>0.48</td>\n",
              "      <td>0.07</td>\n",
              "      <td>0.30</td>\n",
              "      <td>0.07</td>\n",
              "      <td>0.198</td>\n",
              "      <td>0</td>\n",
              "      <td>0</td>\n",
              "      <td>0</td>\n",
              "      <td>0</td>\n",
              "      <td>0</td>\n",
              "      <td>0</td>\n",
              "      <td>0</td>\n",
              "      <td>0</td>\n",
              "      <td>0</td>\n",
              "      <td>0</td>\n",
              "      <td>0</td>\n",
              "      <td>0</td>\n",
              "      <td>0</td>\n",
              "      <td>0</td>\n",
              "      <td>0</td>\n",
              "      <td>0</td>\n",
              "      <td>0</td>\n",
              "      <td>0</td>\n",
              "      <td>0</td>\n",
              "      <td>0</td>\n",
              "      <td>0</td>\n",
              "      <td>0</td>\n",
              "      <td>0</td>\n",
              "      <td>0</td>\n",
              "      <td>0</td>\n",
              "      <td>0</td>\n",
              "      <td>0</td>\n",
              "      <td>...</td>\n",
              "      <td>0</td>\n",
              "      <td>0</td>\n",
              "      <td>0</td>\n",
              "      <td>0</td>\n",
              "      <td>0</td>\n",
              "      <td>0</td>\n",
              "      <td>0</td>\n",
              "      <td>0</td>\n",
              "      <td>0</td>\n",
              "      <td>0</td>\n",
              "      <td>0</td>\n",
              "      <td>0</td>\n",
              "      <td>0</td>\n",
              "      <td>0</td>\n",
              "      <td>0</td>\n",
              "      <td>0</td>\n",
              "      <td>0</td>\n",
              "      <td>0</td>\n",
              "      <td>0</td>\n",
              "      <td>0</td>\n",
              "      <td>0</td>\n",
              "      <td>0</td>\n",
              "      <td>0</td>\n",
              "      <td>0</td>\n",
              "      <td>0</td>\n",
              "      <td>0</td>\n",
              "      <td>0</td>\n",
              "      <td>0</td>\n",
              "      <td>0</td>\n",
              "      <td>0</td>\n",
              "      <td>0</td>\n",
              "      <td>0</td>\n",
              "      <td>0</td>\n",
              "      <td>0</td>\n",
              "      <td>1</td>\n",
              "      <td>0</td>\n",
              "      <td>0</td>\n",
              "      <td>0</td>\n",
              "      <td>0</td>\n",
              "      <td>0</td>\n",
              "    </tr>\n",
              "    <tr>\n",
              "      <th>1</th>\n",
              "      <td>J.K. Rowling</td>\n",
              "      <td>Harry Potter and the Order of the Phoenix</td>\n",
              "      <td>There is a door at the end of a silent corrido...</td>\n",
              "      <td>4.48</td>\n",
              "      <td>2041594</td>\n",
              "      <td>33264</td>\n",
              "      <td>Fantasy|Young Adult|Fiction</td>\n",
              "      <td>0.04</td>\n",
              "      <td>0.59</td>\n",
              "      <td>0.07</td>\n",
              "      <td>0.11</td>\n",
              "      <td>0.19</td>\n",
              "      <td>0.200</td>\n",
              "      <td>0</td>\n",
              "      <td>0</td>\n",
              "      <td>0</td>\n",
              "      <td>0</td>\n",
              "      <td>0</td>\n",
              "      <td>0</td>\n",
              "      <td>0</td>\n",
              "      <td>0</td>\n",
              "      <td>0</td>\n",
              "      <td>0</td>\n",
              "      <td>0</td>\n",
              "      <td>0</td>\n",
              "      <td>0</td>\n",
              "      <td>0</td>\n",
              "      <td>0</td>\n",
              "      <td>0</td>\n",
              "      <td>0</td>\n",
              "      <td>0</td>\n",
              "      <td>0</td>\n",
              "      <td>0</td>\n",
              "      <td>0</td>\n",
              "      <td>0</td>\n",
              "      <td>0</td>\n",
              "      <td>0</td>\n",
              "      <td>0</td>\n",
              "      <td>0</td>\n",
              "      <td>0</td>\n",
              "      <td>...</td>\n",
              "      <td>0</td>\n",
              "      <td>0</td>\n",
              "      <td>0</td>\n",
              "      <td>0</td>\n",
              "      <td>0</td>\n",
              "      <td>0</td>\n",
              "      <td>0</td>\n",
              "      <td>0</td>\n",
              "      <td>0</td>\n",
              "      <td>0</td>\n",
              "      <td>0</td>\n",
              "      <td>0</td>\n",
              "      <td>0</td>\n",
              "      <td>0</td>\n",
              "      <td>0</td>\n",
              "      <td>0</td>\n",
              "      <td>0</td>\n",
              "      <td>0</td>\n",
              "      <td>0</td>\n",
              "      <td>0</td>\n",
              "      <td>0</td>\n",
              "      <td>0</td>\n",
              "      <td>0</td>\n",
              "      <td>0</td>\n",
              "      <td>0</td>\n",
              "      <td>0</td>\n",
              "      <td>0</td>\n",
              "      <td>0</td>\n",
              "      <td>0</td>\n",
              "      <td>0</td>\n",
              "      <td>0</td>\n",
              "      <td>0</td>\n",
              "      <td>0</td>\n",
              "      <td>0</td>\n",
              "      <td>1</td>\n",
              "      <td>0</td>\n",
              "      <td>0</td>\n",
              "      <td>0</td>\n",
              "      <td>0</td>\n",
              "      <td>0</td>\n",
              "    </tr>\n",
              "    <tr>\n",
              "      <th>2</th>\n",
              "      <td>Harper Lee</td>\n",
              "      <td>To Kill a Mockingbird</td>\n",
              "      <td>The unforgettable novel of a childhood in a sl...</td>\n",
              "      <td>4.27</td>\n",
              "      <td>3745197</td>\n",
              "      <td>79450</td>\n",
              "      <td>Classics|Fiction|Historical|Historical Fiction...</td>\n",
              "      <td>0.00</td>\n",
              "      <td>0.30</td>\n",
              "      <td>0.11</td>\n",
              "      <td>0.30</td>\n",
              "      <td>0.30</td>\n",
              "      <td>0.202</td>\n",
              "      <td>0</td>\n",
              "      <td>0</td>\n",
              "      <td>0</td>\n",
              "      <td>0</td>\n",
              "      <td>0</td>\n",
              "      <td>0</td>\n",
              "      <td>0</td>\n",
              "      <td>1</td>\n",
              "      <td>0</td>\n",
              "      <td>0</td>\n",
              "      <td>0</td>\n",
              "      <td>0</td>\n",
              "      <td>0</td>\n",
              "      <td>0</td>\n",
              "      <td>0</td>\n",
              "      <td>0</td>\n",
              "      <td>0</td>\n",
              "      <td>0</td>\n",
              "      <td>0</td>\n",
              "      <td>0</td>\n",
              "      <td>0</td>\n",
              "      <td>0</td>\n",
              "      <td>0</td>\n",
              "      <td>0</td>\n",
              "      <td>0</td>\n",
              "      <td>0</td>\n",
              "      <td>0</td>\n",
              "      <td>...</td>\n",
              "      <td>0</td>\n",
              "      <td>0</td>\n",
              "      <td>0</td>\n",
              "      <td>0</td>\n",
              "      <td>0</td>\n",
              "      <td>0</td>\n",
              "      <td>0</td>\n",
              "      <td>0</td>\n",
              "      <td>0</td>\n",
              "      <td>0</td>\n",
              "      <td>0</td>\n",
              "      <td>0</td>\n",
              "      <td>0</td>\n",
              "      <td>0</td>\n",
              "      <td>0</td>\n",
              "      <td>0</td>\n",
              "      <td>0</td>\n",
              "      <td>0</td>\n",
              "      <td>0</td>\n",
              "      <td>0</td>\n",
              "      <td>0</td>\n",
              "      <td>0</td>\n",
              "      <td>0</td>\n",
              "      <td>0</td>\n",
              "      <td>0</td>\n",
              "      <td>0</td>\n",
              "      <td>0</td>\n",
              "      <td>0</td>\n",
              "      <td>0</td>\n",
              "      <td>0</td>\n",
              "      <td>0</td>\n",
              "      <td>0</td>\n",
              "      <td>0</td>\n",
              "      <td>0</td>\n",
              "      <td>0</td>\n",
              "      <td>0</td>\n",
              "      <td>0</td>\n",
              "      <td>0</td>\n",
              "      <td>0</td>\n",
              "      <td>0</td>\n",
              "    </tr>\n",
              "    <tr>\n",
              "      <th>3</th>\n",
              "      <td>Stephenie Meyer</td>\n",
              "      <td>Twilight</td>\n",
              "      <td>About three things I was absolutely positive.F...</td>\n",
              "      <td>3.58</td>\n",
              "      <td>4281268</td>\n",
              "      <td>97991</td>\n",
              "      <td>Young Adult|Fantasy|Romance|Paranormal|Vampire...</td>\n",
              "      <td>0.10</td>\n",
              "      <td>0.20</td>\n",
              "      <td>0.20</td>\n",
              "      <td>0.20</td>\n",
              "      <td>0.30</td>\n",
              "      <td>0.200</td>\n",
              "      <td>0</td>\n",
              "      <td>0</td>\n",
              "      <td>0</td>\n",
              "      <td>0</td>\n",
              "      <td>0</td>\n",
              "      <td>0</td>\n",
              "      <td>0</td>\n",
              "      <td>0</td>\n",
              "      <td>0</td>\n",
              "      <td>0</td>\n",
              "      <td>0</td>\n",
              "      <td>0</td>\n",
              "      <td>0</td>\n",
              "      <td>0</td>\n",
              "      <td>0</td>\n",
              "      <td>0</td>\n",
              "      <td>0</td>\n",
              "      <td>0</td>\n",
              "      <td>0</td>\n",
              "      <td>0</td>\n",
              "      <td>0</td>\n",
              "      <td>0</td>\n",
              "      <td>0</td>\n",
              "      <td>0</td>\n",
              "      <td>0</td>\n",
              "      <td>0</td>\n",
              "      <td>0</td>\n",
              "      <td>...</td>\n",
              "      <td>0</td>\n",
              "      <td>0</td>\n",
              "      <td>0</td>\n",
              "      <td>0</td>\n",
              "      <td>0</td>\n",
              "      <td>0</td>\n",
              "      <td>0</td>\n",
              "      <td>0</td>\n",
              "      <td>0</td>\n",
              "      <td>0</td>\n",
              "      <td>0</td>\n",
              "      <td>1</td>\n",
              "      <td>0</td>\n",
              "      <td>0</td>\n",
              "      <td>0</td>\n",
              "      <td>0</td>\n",
              "      <td>0</td>\n",
              "      <td>0</td>\n",
              "      <td>0</td>\n",
              "      <td>0</td>\n",
              "      <td>0</td>\n",
              "      <td>0</td>\n",
              "      <td>0</td>\n",
              "      <td>0</td>\n",
              "      <td>0</td>\n",
              "      <td>0</td>\n",
              "      <td>0</td>\n",
              "      <td>0</td>\n",
              "      <td>0</td>\n",
              "      <td>0</td>\n",
              "      <td>0</td>\n",
              "      <td>0</td>\n",
              "      <td>0</td>\n",
              "      <td>0</td>\n",
              "      <td>1</td>\n",
              "      <td>0</td>\n",
              "      <td>0</td>\n",
              "      <td>0</td>\n",
              "      <td>0</td>\n",
              "      <td>0</td>\n",
              "    </tr>\n",
              "    <tr>\n",
              "      <th>4</th>\n",
              "      <td>Markus Zusak</td>\n",
              "      <td>The Book Thief</td>\n",
              "      <td>Trying to make sense of the horrors of World W...</td>\n",
              "      <td>4.36</td>\n",
              "      <td>1485632</td>\n",
              "      <td>100821</td>\n",
              "      <td>Historical|Historical Fiction|Fiction|Young Adult</td>\n",
              "      <td>0.12</td>\n",
              "      <td>0.12</td>\n",
              "      <td>0.00</td>\n",
              "      <td>0.12</td>\n",
              "      <td>0.62</td>\n",
              "      <td>0.196</td>\n",
              "      <td>0</td>\n",
              "      <td>0</td>\n",
              "      <td>0</td>\n",
              "      <td>0</td>\n",
              "      <td>0</td>\n",
              "      <td>0</td>\n",
              "      <td>0</td>\n",
              "      <td>0</td>\n",
              "      <td>0</td>\n",
              "      <td>0</td>\n",
              "      <td>0</td>\n",
              "      <td>0</td>\n",
              "      <td>0</td>\n",
              "      <td>0</td>\n",
              "      <td>0</td>\n",
              "      <td>0</td>\n",
              "      <td>0</td>\n",
              "      <td>0</td>\n",
              "      <td>0</td>\n",
              "      <td>0</td>\n",
              "      <td>0</td>\n",
              "      <td>0</td>\n",
              "      <td>0</td>\n",
              "      <td>0</td>\n",
              "      <td>0</td>\n",
              "      <td>0</td>\n",
              "      <td>0</td>\n",
              "      <td>...</td>\n",
              "      <td>0</td>\n",
              "      <td>0</td>\n",
              "      <td>0</td>\n",
              "      <td>0</td>\n",
              "      <td>0</td>\n",
              "      <td>0</td>\n",
              "      <td>0</td>\n",
              "      <td>0</td>\n",
              "      <td>0</td>\n",
              "      <td>0</td>\n",
              "      <td>0</td>\n",
              "      <td>0</td>\n",
              "      <td>0</td>\n",
              "      <td>0</td>\n",
              "      <td>0</td>\n",
              "      <td>0</td>\n",
              "      <td>0</td>\n",
              "      <td>0</td>\n",
              "      <td>0</td>\n",
              "      <td>0</td>\n",
              "      <td>0</td>\n",
              "      <td>0</td>\n",
              "      <td>0</td>\n",
              "      <td>0</td>\n",
              "      <td>0</td>\n",
              "      <td>0</td>\n",
              "      <td>0</td>\n",
              "      <td>0</td>\n",
              "      <td>0</td>\n",
              "      <td>0</td>\n",
              "      <td>0</td>\n",
              "      <td>0</td>\n",
              "      <td>0</td>\n",
              "      <td>0</td>\n",
              "      <td>1</td>\n",
              "      <td>0</td>\n",
              "      <td>0</td>\n",
              "      <td>0</td>\n",
              "      <td>0</td>\n",
              "      <td>0</td>\n",
              "    </tr>\n",
              "    <tr>\n",
              "      <th>...</th>\n",
              "      <td>...</td>\n",
              "      <td>...</td>\n",
              "      <td>...</td>\n",
              "      <td>...</td>\n",
              "      <td>...</td>\n",
              "      <td>...</td>\n",
              "      <td>...</td>\n",
              "      <td>...</td>\n",
              "      <td>...</td>\n",
              "      <td>...</td>\n",
              "      <td>...</td>\n",
              "      <td>...</td>\n",
              "      <td>...</td>\n",
              "      <td>...</td>\n",
              "      <td>...</td>\n",
              "      <td>...</td>\n",
              "      <td>...</td>\n",
              "      <td>...</td>\n",
              "      <td>...</td>\n",
              "      <td>...</td>\n",
              "      <td>...</td>\n",
              "      <td>...</td>\n",
              "      <td>...</td>\n",
              "      <td>...</td>\n",
              "      <td>...</td>\n",
              "      <td>...</td>\n",
              "      <td>...</td>\n",
              "      <td>...</td>\n",
              "      <td>...</td>\n",
              "      <td>...</td>\n",
              "      <td>...</td>\n",
              "      <td>...</td>\n",
              "      <td>...</td>\n",
              "      <td>...</td>\n",
              "      <td>...</td>\n",
              "      <td>...</td>\n",
              "      <td>...</td>\n",
              "      <td>...</td>\n",
              "      <td>...</td>\n",
              "      <td>...</td>\n",
              "      <td>...</td>\n",
              "      <td>...</td>\n",
              "      <td>...</td>\n",
              "      <td>...</td>\n",
              "      <td>...</td>\n",
              "      <td>...</td>\n",
              "      <td>...</td>\n",
              "      <td>...</td>\n",
              "      <td>...</td>\n",
              "      <td>...</td>\n",
              "      <td>...</td>\n",
              "      <td>...</td>\n",
              "      <td>...</td>\n",
              "      <td>...</td>\n",
              "      <td>...</td>\n",
              "      <td>...</td>\n",
              "      <td>...</td>\n",
              "      <td>...</td>\n",
              "      <td>...</td>\n",
              "      <td>...</td>\n",
              "      <td>...</td>\n",
              "      <td>...</td>\n",
              "      <td>...</td>\n",
              "      <td>...</td>\n",
              "      <td>...</td>\n",
              "      <td>...</td>\n",
              "      <td>...</td>\n",
              "      <td>...</td>\n",
              "      <td>...</td>\n",
              "      <td>...</td>\n",
              "      <td>...</td>\n",
              "      <td>...</td>\n",
              "      <td>...</td>\n",
              "      <td>...</td>\n",
              "      <td>...</td>\n",
              "      <td>...</td>\n",
              "      <td>...</td>\n",
              "      <td>...</td>\n",
              "      <td>...</td>\n",
              "      <td>...</td>\n",
              "      <td>...</td>\n",
              "    </tr>\n",
              "    <tr>\n",
              "      <th>4746</th>\n",
              "      <td>Steve Kluger</td>\n",
              "      <td>My Most Excellent Year</td>\n",
              "      <td>Dear Anthony:I appreciate your recent interest...</td>\n",
              "      <td>4.04</td>\n",
              "      <td>7279</td>\n",
              "      <td>1072</td>\n",
              "      <td>Young Adult|Fiction|Romance|Lgbt|Contemporary|...</td>\n",
              "      <td>0.08</td>\n",
              "      <td>0.23</td>\n",
              "      <td>0.38</td>\n",
              "      <td>0.08</td>\n",
              "      <td>0.23</td>\n",
              "      <td>0.200</td>\n",
              "      <td>0</td>\n",
              "      <td>0</td>\n",
              "      <td>0</td>\n",
              "      <td>0</td>\n",
              "      <td>0</td>\n",
              "      <td>0</td>\n",
              "      <td>0</td>\n",
              "      <td>0</td>\n",
              "      <td>0</td>\n",
              "      <td>0</td>\n",
              "      <td>0</td>\n",
              "      <td>0</td>\n",
              "      <td>0</td>\n",
              "      <td>0</td>\n",
              "      <td>0</td>\n",
              "      <td>0</td>\n",
              "      <td>0</td>\n",
              "      <td>0</td>\n",
              "      <td>0</td>\n",
              "      <td>0</td>\n",
              "      <td>0</td>\n",
              "      <td>0</td>\n",
              "      <td>0</td>\n",
              "      <td>0</td>\n",
              "      <td>0</td>\n",
              "      <td>0</td>\n",
              "      <td>0</td>\n",
              "      <td>...</td>\n",
              "      <td>0</td>\n",
              "      <td>0</td>\n",
              "      <td>0</td>\n",
              "      <td>0</td>\n",
              "      <td>0</td>\n",
              "      <td>0</td>\n",
              "      <td>0</td>\n",
              "      <td>0</td>\n",
              "      <td>0</td>\n",
              "      <td>0</td>\n",
              "      <td>0</td>\n",
              "      <td>0</td>\n",
              "      <td>0</td>\n",
              "      <td>0</td>\n",
              "      <td>0</td>\n",
              "      <td>0</td>\n",
              "      <td>0</td>\n",
              "      <td>0</td>\n",
              "      <td>0</td>\n",
              "      <td>0</td>\n",
              "      <td>0</td>\n",
              "      <td>0</td>\n",
              "      <td>0</td>\n",
              "      <td>0</td>\n",
              "      <td>0</td>\n",
              "      <td>0</td>\n",
              "      <td>0</td>\n",
              "      <td>0</td>\n",
              "      <td>0</td>\n",
              "      <td>0</td>\n",
              "      <td>0</td>\n",
              "      <td>0</td>\n",
              "      <td>0</td>\n",
              "      <td>0</td>\n",
              "      <td>1</td>\n",
              "      <td>0</td>\n",
              "      <td>0</td>\n",
              "      <td>0</td>\n",
              "      <td>0</td>\n",
              "      <td>0</td>\n",
              "    </tr>\n",
              "    <tr>\n",
              "      <th>4747</th>\n",
              "      <td>Kimberly Derting</td>\n",
              "      <td>Desires of the Dead</td>\n",
              "      <td>The missing dead call to Violet. They want to ...</td>\n",
              "      <td>4.06</td>\n",
              "      <td>22320</td>\n",
              "      <td>1605</td>\n",
              "      <td>Mystery|Romance|Fantasy|Young Adult|Fantasy|Su...</td>\n",
              "      <td>0.00</td>\n",
              "      <td>0.45</td>\n",
              "      <td>0.07</td>\n",
              "      <td>0.24</td>\n",
              "      <td>0.24</td>\n",
              "      <td>0.200</td>\n",
              "      <td>0</td>\n",
              "      <td>0</td>\n",
              "      <td>0</td>\n",
              "      <td>0</td>\n",
              "      <td>0</td>\n",
              "      <td>0</td>\n",
              "      <td>0</td>\n",
              "      <td>0</td>\n",
              "      <td>0</td>\n",
              "      <td>0</td>\n",
              "      <td>0</td>\n",
              "      <td>0</td>\n",
              "      <td>0</td>\n",
              "      <td>0</td>\n",
              "      <td>0</td>\n",
              "      <td>0</td>\n",
              "      <td>0</td>\n",
              "      <td>0</td>\n",
              "      <td>0</td>\n",
              "      <td>0</td>\n",
              "      <td>0</td>\n",
              "      <td>0</td>\n",
              "      <td>0</td>\n",
              "      <td>0</td>\n",
              "      <td>0</td>\n",
              "      <td>0</td>\n",
              "      <td>0</td>\n",
              "      <td>...</td>\n",
              "      <td>0</td>\n",
              "      <td>0</td>\n",
              "      <td>0</td>\n",
              "      <td>0</td>\n",
              "      <td>0</td>\n",
              "      <td>0</td>\n",
              "      <td>0</td>\n",
              "      <td>0</td>\n",
              "      <td>0</td>\n",
              "      <td>0</td>\n",
              "      <td>0</td>\n",
              "      <td>0</td>\n",
              "      <td>0</td>\n",
              "      <td>0</td>\n",
              "      <td>0</td>\n",
              "      <td>0</td>\n",
              "      <td>0</td>\n",
              "      <td>0</td>\n",
              "      <td>0</td>\n",
              "      <td>0</td>\n",
              "      <td>0</td>\n",
              "      <td>0</td>\n",
              "      <td>0</td>\n",
              "      <td>0</td>\n",
              "      <td>0</td>\n",
              "      <td>0</td>\n",
              "      <td>0</td>\n",
              "      <td>0</td>\n",
              "      <td>0</td>\n",
              "      <td>0</td>\n",
              "      <td>0</td>\n",
              "      <td>0</td>\n",
              "      <td>0</td>\n",
              "      <td>0</td>\n",
              "      <td>1</td>\n",
              "      <td>0</td>\n",
              "      <td>0</td>\n",
              "      <td>0</td>\n",
              "      <td>0</td>\n",
              "      <td>0</td>\n",
              "    </tr>\n",
              "    <tr>\n",
              "      <th>4748</th>\n",
              "      <td>Eva Ibbotson</td>\n",
              "      <td>The Dragonfly Pool</td>\n",
              "      <td>Tally Hamilton is furious to hear she is being...</td>\n",
              "      <td>4.00</td>\n",
              "      <td>3799</td>\n",
              "      <td>418</td>\n",
              "      <td>Historical|Historical Fiction|Young Adult|Chil...</td>\n",
              "      <td>0.04</td>\n",
              "      <td>0.46</td>\n",
              "      <td>0.19</td>\n",
              "      <td>0.19</td>\n",
              "      <td>0.12</td>\n",
              "      <td>0.200</td>\n",
              "      <td>0</td>\n",
              "      <td>0</td>\n",
              "      <td>0</td>\n",
              "      <td>0</td>\n",
              "      <td>0</td>\n",
              "      <td>0</td>\n",
              "      <td>0</td>\n",
              "      <td>0</td>\n",
              "      <td>0</td>\n",
              "      <td>0</td>\n",
              "      <td>0</td>\n",
              "      <td>0</td>\n",
              "      <td>0</td>\n",
              "      <td>0</td>\n",
              "      <td>0</td>\n",
              "      <td>0</td>\n",
              "      <td>0</td>\n",
              "      <td>0</td>\n",
              "      <td>0</td>\n",
              "      <td>0</td>\n",
              "      <td>0</td>\n",
              "      <td>0</td>\n",
              "      <td>0</td>\n",
              "      <td>0</td>\n",
              "      <td>0</td>\n",
              "      <td>0</td>\n",
              "      <td>0</td>\n",
              "      <td>...</td>\n",
              "      <td>0</td>\n",
              "      <td>0</td>\n",
              "      <td>0</td>\n",
              "      <td>0</td>\n",
              "      <td>0</td>\n",
              "      <td>0</td>\n",
              "      <td>0</td>\n",
              "      <td>0</td>\n",
              "      <td>0</td>\n",
              "      <td>0</td>\n",
              "      <td>0</td>\n",
              "      <td>0</td>\n",
              "      <td>0</td>\n",
              "      <td>0</td>\n",
              "      <td>0</td>\n",
              "      <td>0</td>\n",
              "      <td>0</td>\n",
              "      <td>0</td>\n",
              "      <td>0</td>\n",
              "      <td>0</td>\n",
              "      <td>0</td>\n",
              "      <td>0</td>\n",
              "      <td>0</td>\n",
              "      <td>0</td>\n",
              "      <td>0</td>\n",
              "      <td>0</td>\n",
              "      <td>0</td>\n",
              "      <td>0</td>\n",
              "      <td>0</td>\n",
              "      <td>0</td>\n",
              "      <td>0</td>\n",
              "      <td>0</td>\n",
              "      <td>0</td>\n",
              "      <td>0</td>\n",
              "      <td>1</td>\n",
              "      <td>0</td>\n",
              "      <td>0</td>\n",
              "      <td>0</td>\n",
              "      <td>0</td>\n",
              "      <td>0</td>\n",
              "    </tr>\n",
              "    <tr>\n",
              "      <th>4749</th>\n",
              "      <td>Fábio Moon</td>\n",
              "      <td>Daytripper</td>\n",
              "      <td>What are the most important days of your life?...</td>\n",
              "      <td>4.30</td>\n",
              "      <td>21965</td>\n",
              "      <td>2029</td>\n",
              "      <td>Sequential Art|Graphic Novels|Sequential Art|C...</td>\n",
              "      <td>0.03</td>\n",
              "      <td>0.32</td>\n",
              "      <td>0.26</td>\n",
              "      <td>0.11</td>\n",
              "      <td>0.29</td>\n",
              "      <td>0.202</td>\n",
              "      <td>0</td>\n",
              "      <td>0</td>\n",
              "      <td>0</td>\n",
              "      <td>0</td>\n",
              "      <td>0</td>\n",
              "      <td>0</td>\n",
              "      <td>0</td>\n",
              "      <td>0</td>\n",
              "      <td>0</td>\n",
              "      <td>0</td>\n",
              "      <td>0</td>\n",
              "      <td>0</td>\n",
              "      <td>0</td>\n",
              "      <td>0</td>\n",
              "      <td>0</td>\n",
              "      <td>0</td>\n",
              "      <td>0</td>\n",
              "      <td>0</td>\n",
              "      <td>0</td>\n",
              "      <td>0</td>\n",
              "      <td>0</td>\n",
              "      <td>0</td>\n",
              "      <td>0</td>\n",
              "      <td>0</td>\n",
              "      <td>0</td>\n",
              "      <td>0</td>\n",
              "      <td>0</td>\n",
              "      <td>...</td>\n",
              "      <td>0</td>\n",
              "      <td>0</td>\n",
              "      <td>0</td>\n",
              "      <td>0</td>\n",
              "      <td>0</td>\n",
              "      <td>0</td>\n",
              "      <td>0</td>\n",
              "      <td>0</td>\n",
              "      <td>0</td>\n",
              "      <td>0</td>\n",
              "      <td>0</td>\n",
              "      <td>0</td>\n",
              "      <td>0</td>\n",
              "      <td>0</td>\n",
              "      <td>0</td>\n",
              "      <td>0</td>\n",
              "      <td>0</td>\n",
              "      <td>0</td>\n",
              "      <td>0</td>\n",
              "      <td>0</td>\n",
              "      <td>0</td>\n",
              "      <td>0</td>\n",
              "      <td>0</td>\n",
              "      <td>0</td>\n",
              "      <td>0</td>\n",
              "      <td>0</td>\n",
              "      <td>0</td>\n",
              "      <td>0</td>\n",
              "      <td>0</td>\n",
              "      <td>0</td>\n",
              "      <td>0</td>\n",
              "      <td>0</td>\n",
              "      <td>0</td>\n",
              "      <td>0</td>\n",
              "      <td>0</td>\n",
              "      <td>0</td>\n",
              "      <td>0</td>\n",
              "      <td>0</td>\n",
              "      <td>0</td>\n",
              "      <td>0</td>\n",
              "    </tr>\n",
              "    <tr>\n",
              "      <th>4750</th>\n",
              "      <td>Peter Singer</td>\n",
              "      <td>Animal Liberation</td>\n",
              "      <td>The Book That Started A Revolution. Since its ...</td>\n",
              "      <td>4.21</td>\n",
              "      <td>5641</td>\n",
              "      <td>401</td>\n",
              "      <td>Philosophy|Nonfiction|Animals|Fo</td>\n",
              "      <td>0.00</td>\n",
              "      <td>0.47</td>\n",
              "      <td>0.12</td>\n",
              "      <td>0.35</td>\n",
              "      <td>0.06</td>\n",
              "      <td>0.200</td>\n",
              "      <td>0</td>\n",
              "      <td>0</td>\n",
              "      <td>0</td>\n",
              "      <td>0</td>\n",
              "      <td>0</td>\n",
              "      <td>0</td>\n",
              "      <td>0</td>\n",
              "      <td>0</td>\n",
              "      <td>0</td>\n",
              "      <td>0</td>\n",
              "      <td>0</td>\n",
              "      <td>0</td>\n",
              "      <td>0</td>\n",
              "      <td>0</td>\n",
              "      <td>0</td>\n",
              "      <td>0</td>\n",
              "      <td>0</td>\n",
              "      <td>0</td>\n",
              "      <td>0</td>\n",
              "      <td>0</td>\n",
              "      <td>0</td>\n",
              "      <td>0</td>\n",
              "      <td>0</td>\n",
              "      <td>0</td>\n",
              "      <td>0</td>\n",
              "      <td>0</td>\n",
              "      <td>0</td>\n",
              "      <td>...</td>\n",
              "      <td>0</td>\n",
              "      <td>0</td>\n",
              "      <td>0</td>\n",
              "      <td>0</td>\n",
              "      <td>0</td>\n",
              "      <td>0</td>\n",
              "      <td>0</td>\n",
              "      <td>0</td>\n",
              "      <td>0</td>\n",
              "      <td>0</td>\n",
              "      <td>0</td>\n",
              "      <td>0</td>\n",
              "      <td>0</td>\n",
              "      <td>0</td>\n",
              "      <td>0</td>\n",
              "      <td>0</td>\n",
              "      <td>0</td>\n",
              "      <td>0</td>\n",
              "      <td>0</td>\n",
              "      <td>0</td>\n",
              "      <td>0</td>\n",
              "      <td>0</td>\n",
              "      <td>0</td>\n",
              "      <td>0</td>\n",
              "      <td>0</td>\n",
              "      <td>0</td>\n",
              "      <td>0</td>\n",
              "      <td>0</td>\n",
              "      <td>0</td>\n",
              "      <td>0</td>\n",
              "      <td>0</td>\n",
              "      <td>0</td>\n",
              "      <td>0</td>\n",
              "      <td>0</td>\n",
              "      <td>0</td>\n",
              "      <td>0</td>\n",
              "      <td>0</td>\n",
              "      <td>0</td>\n",
              "      <td>0</td>\n",
              "      <td>0</td>\n",
              "    </tr>\n",
              "  </tbody>\n",
              "</table>\n",
              "<p>4751 rows × 442 columns</p>\n",
              "</div>"
            ],
            "text/plain": [
              "          book_authors  ... Zombies\n",
              "0      Suzanne Collins  ...       0\n",
              "1         J.K. Rowling  ...       0\n",
              "2           Harper Lee  ...       0\n",
              "3      Stephenie Meyer  ...       0\n",
              "4         Markus Zusak  ...       0\n",
              "...                ...  ...     ...\n",
              "4746      Steve Kluger  ...       0\n",
              "4747  Kimberly Derting  ...       0\n",
              "4748      Eva Ibbotson  ...       0\n",
              "4749        Fábio Moon  ...       0\n",
              "4750      Peter Singer  ...       0\n",
              "\n",
              "[4751 rows x 442 columns]"
            ]
          },
          "metadata": {
            "tags": []
          },
          "execution_count": 4
        }
      ]
    },
    {
      "cell_type": "code",
      "metadata": {
        "id": "H6i5mvj1JlRI"
      },
      "source": [
        "cols = ds.columns\n",
        "columns = cols.drop(labels=['book_title', 'book_authors', 'book_desc', 'book_title', 'genres', 'emotion_index'])"
      ],
      "execution_count": null,
      "outputs": []
    },
    {
      "cell_type": "code",
      "metadata": {
        "colab": {
          "base_uri": "https://localhost:8080/"
        },
        "id": "KkfghWJSMD_U",
        "outputId": "f223888e-29ce-4b74-ca8f-4abdd8a795fb"
      },
      "source": [
        "columns"
      ],
      "execution_count": null,
      "outputs": [
        {
          "output_type": "execute_result",
          "data": {
            "text/plain": [
              "Index(['book_rating', 'book_rating_count', 'book_review_count', 'anger',\n",
              "       'fear', 'happiness', 'sadness', 'surprise', '16th Century',\n",
              "       '18th Century',\n",
              "       ...\n",
              "       'World History', 'World War I', 'World War II', 'Writing',\n",
              "       'Young Adult', 'Young Adult Contemporary', 'Young Adult Fantasy',\n",
              "       'Young Adult Paranormal', 'Young Adult Romance', 'Zombies'],\n",
              "      dtype='object', length=437)"
            ]
          },
          "metadata": {
            "tags": []
          },
          "execution_count": 6
        }
      ]
    },
    {
      "cell_type": "code",
      "metadata": {
        "id": "miPtvxPKKc5R"
      },
      "source": [
        "#X = ds[[c for c in columns]].values.reshape(-1, 1)\n",
        "X = ds[[c for c in columns]]\n",
        "X_train = X[0:3325]\n",
        "X_test = X[3325:]\n",
        "#y = ds['book_rating'].values.reshape(-1, 1)\n",
        "y = ds['book_rating']\n",
        "y_train = y[0:3325]\n",
        "y_test = y[3325:]"
      ],
      "execution_count": null,
      "outputs": []
    },
    {
      "cell_type": "code",
      "metadata": {
        "colab": {
          "base_uri": "https://localhost:8080/"
        },
        "id": "HHjSashhMyEw",
        "outputId": "f0f170c9-b9ad-4884-b022-86df69fab407"
      },
      "source": [
        "X_test.shape"
      ],
      "execution_count": null,
      "outputs": [
        {
          "output_type": "execute_result",
          "data": {
            "text/plain": [
              "(1426, 437)"
            ]
          },
          "metadata": {
            "tags": []
          },
          "execution_count": 8
        }
      ]
    },
    {
      "cell_type": "code",
      "metadata": {
        "colab": {
          "base_uri": "https://localhost:8080/"
        },
        "id": "IQpcAPBMM0_o",
        "outputId": "cb18c3f8-66f0-45cf-8fb2-9e992a3b5448"
      },
      "source": [
        "y_test.shape"
      ],
      "execution_count": null,
      "outputs": [
        {
          "output_type": "execute_result",
          "data": {
            "text/plain": [
              "(1426,)"
            ]
          },
          "metadata": {
            "tags": []
          },
          "execution_count": 9
        }
      ]
    },
    {
      "cell_type": "code",
      "metadata": {
        "colab": {
          "base_uri": "https://localhost:8080/"
        },
        "id": "KlVC6TRZLQW_",
        "outputId": "d50ea592-24ce-4b35-dbce-525c2ffebe23"
      },
      "source": [
        "md_lr = LinearRegression()\n",
        "md_lr.fit(X_train, y_train)\n",
        "pred_lr = md_lr.predict(X_test)\n",
        "print('linear regression')\n",
        "print(np.sqrt(mean_squared_error(y_test, pred_lr)))\n",
        "print(r2_score(y_test, pred_lr))\n",
        "#print(md_lr.score(X_test, y_test))"
      ],
      "execution_count": null,
      "outputs": [
        {
          "output_type": "stream",
          "text": [
            "linear regression\n",
            "4.510917530527849e-11\n",
            "1.0\n"
          ],
          "name": "stdout"
        }
      ]
    },
    {
      "cell_type": "code",
      "metadata": {
        "colab": {
          "base_uri": "https://localhost:8080/"
        },
        "id": "P1tH3xZOQJ_k",
        "outputId": "de47ff07-bcd6-49cf-9766-1991815ed897"
      },
      "source": [
        "md_dt = DecisionTreeRegressor(max_depth=8, min_samples_leaf=0.13, random_state=3)\n",
        "md_dt.fit(X_train, y_train)\n",
        "pred_dt = md_dt.predict(X_test)\n",
        "print('decision tree')\n",
        "print(np.sqrt(mean_squared_error(y_test, pred_dt)))\n",
        "print(r2_score(y_test, pred_dt))"
      ],
      "execution_count": null,
      "outputs": [
        {
          "output_type": "stream",
          "text": [
            "decision tree\n",
            "0.08012814115632104\n",
            "0.8969821692230014\n"
          ],
          "name": "stdout"
        }
      ]
    },
    {
      "cell_type": "markdown",
      "metadata": {
        "id": "eoNuiiuosKij"
      },
      "source": [
        "**K-Fold**"
      ]
    },
    {
      "cell_type": "code",
      "metadata": {
        "id": "UV4PhHt19kdX"
      },
      "source": [
        "kf_res = {'1_model': [], '2_fit_time': [], '3_score_time': [], '4_r2': [], '5_mse': []}"
      ],
      "execution_count": null,
      "outputs": []
    },
    {
      "cell_type": "markdown",
      "metadata": {
        "id": "h5H7gbwajhgR"
      },
      "source": [
        "*Linear Regression*"
      ]
    },
    {
      "cell_type": "code",
      "metadata": {
        "id": "tu_OZjSMtfQ_"
      },
      "source": [
        "cv = KFold(n_splits=10, random_state=1, shuffle=True)\n",
        "mdl_lr = LinearRegression().fit(X, y)\n",
        "scores_lr = cross_validate(mdl_lr, X, y, scoring=('r2', 'neg_mean_squared_error'), cv=cv, n_jobs=-1)"
      ],
      "execution_count": null,
      "outputs": []
    },
    {
      "cell_type": "code",
      "metadata": {
        "colab": {
          "base_uri": "https://localhost:8080/"
        },
        "id": "PQiylPMGy62x",
        "outputId": "0686e9bf-67f7-48e6-e48a-d916fb9e7911"
      },
      "source": [
        "scores_lr"
      ],
      "execution_count": null,
      "outputs": [
        {
          "output_type": "execute_result",
          "data": {
            "text/plain": [
              "{'fit_time': array([0.28955889, 0.31321907, 0.31049776, 0.2985518 , 0.30283713,\n",
              "        0.29665661, 0.29739904, 0.31182504, 0.28971601, 0.25400901]),\n",
              " 'score_time': array([0.0066967 , 0.00629854, 0.00431919, 0.00433683, 0.00410986,\n",
              "        0.00450253, 0.00561929, 0.00424647, 0.00423908, 0.00267601]),\n",
              " 'test_neg_mean_squared_error': array([-1.25326767e-20, -3.85255830e-21, -1.87403842e-20, -1.43116117e-20,\n",
              "        -7.36749627e-21, -3.99081720e-21, -2.11335696e-21, -1.08709880e-20,\n",
              "        -4.33572948e-20, -5.81346206e-21]),\n",
              " 'test_r2': array([1., 1., 1., 1., 1., 1., 1., 1., 1., 1.])}"
            ]
          },
          "metadata": {
            "tags": []
          },
          "execution_count": 14
        }
      ]
    },
    {
      "cell_type": "code",
      "metadata": {
        "id": "RKqjTUoK-i5k"
      },
      "source": [
        "kf_res['1_model'].append('linear regression')\n",
        "kf_res['2_fit_time'].append(np.mean(scores_lr['fit_time']))\n",
        "kf_res['3_score_time'].append(np.mean(scores_lr['score_time']))\n",
        "kf_res['4_r2'].append(np.mean(scores_lr['test_r2']))\n",
        "kf_res['5_mse'].append(np.abs(np.mean(scores_lr['test_neg_mean_squared_error'])))"
      ],
      "execution_count": null,
      "outputs": []
    },
    {
      "cell_type": "markdown",
      "metadata": {
        "id": "NxAuhlyWp_SB"
      },
      "source": [
        "*Ridge Regression*"
      ]
    },
    {
      "cell_type": "code",
      "metadata": {
        "id": "Gflbj1hgMw2b"
      },
      "source": [
        "mdl_rd_cv = RidgeCV(alphas=[0.1, 1, 10, 50, 100, 900, 1e3, 1e6], store_cv_values=True).fit(X, y)"
      ],
      "execution_count": null,
      "outputs": []
    },
    {
      "cell_type": "code",
      "metadata": {
        "colab": {
          "base_uri": "https://localhost:8080/"
        },
        "id": "bjHZeOK2M4sr",
        "outputId": "7130a191-43db-4f72-91e4-98899f821442"
      },
      "source": [
        "# the best alpha\n",
        "rd_alpha = mdl_rd_cv.alpha_\n",
        "rd_alpha"
      ],
      "execution_count": null,
      "outputs": [
        {
          "output_type": "execute_result",
          "data": {
            "text/plain": [
              "0.1"
            ]
          },
          "metadata": {
            "tags": []
          },
          "execution_count": 17
        }
      ]
    },
    {
      "cell_type": "code",
      "metadata": {
        "id": "-53fZbYy3l4K"
      },
      "source": [
        "#mdl_rd = RidgeCV(alphas=[0.1, 1, 10, 100, 1e3, 1e6], store_cv_values=True).fit(X, y)\n",
        "mdl_rd = Ridge(alpha=rd_alpha).fit(X, y)\n",
        "scores_rd = cross_validate(mdl_rd, X, y, scoring=('r2', 'neg_mean_squared_error'), cv=cv, n_jobs=-1)"
      ],
      "execution_count": null,
      "outputs": []
    },
    {
      "cell_type": "code",
      "metadata": {
        "colab": {
          "base_uri": "https://localhost:8080/"
        },
        "id": "gpxwwbT_1bFr",
        "outputId": "e57bd514-978b-4b99-a59f-1a7ddf78e553"
      },
      "source": [
        "scores_rd"
      ],
      "execution_count": null,
      "outputs": [
        {
          "output_type": "execute_result",
          "data": {
            "text/plain": [
              "{'fit_time': array([0.13519645, 0.13208437, 0.1186192 , 0.09454131, 0.09329486,\n",
              "        0.10153365, 0.09325838, 0.09833169, 0.11738968, 0.10252285]),\n",
              " 'score_time': array([0.00455403, 0.00438714, 0.00477147, 0.00440335, 0.0041647 ,\n",
              "        0.00388026, 0.00507927, 0.00610209, 0.00440764, 0.00327635]),\n",
              " 'test_neg_mean_squared_error': array([-1.52262392e-08, -1.52152787e-08, -1.72318964e-08, -1.62162784e-08,\n",
              "        -1.74219190e-08, -1.59850251e-08, -1.24624226e-08, -1.79850364e-08,\n",
              "        -1.44511864e-08, -1.73692358e-08]),\n",
              " 'test_r2': array([0.99999972, 0.99999972, 0.9999997 , 0.99999972, 0.9999997 ,\n",
              "        0.99999973, 0.99999975, 0.99999971, 0.99999974, 0.99999971])}"
            ]
          },
          "metadata": {
            "tags": []
          },
          "execution_count": 19
        }
      ]
    },
    {
      "cell_type": "code",
      "metadata": {
        "id": "tofMXK0x18oP"
      },
      "source": [
        "kf_res['1_model'].append('ridge')\n",
        "kf_res['2_fit_time'].append(np.mean(scores_rd['fit_time']))\n",
        "kf_res['3_score_time'].append(np.mean(scores_rd['score_time']))\n",
        "kf_res['4_r2'].append(np.mean(scores_rd['test_r2']))\n",
        "kf_res['5_mse'].append(np.abs(np.mean(scores_rd['test_neg_mean_squared_error'])))"
      ],
      "execution_count": null,
      "outputs": []
    },
    {
      "cell_type": "markdown",
      "metadata": {
        "id": "TTPogaf8_9py"
      },
      "source": [
        "*Lasso Regression*"
      ]
    },
    {
      "cell_type": "code",
      "metadata": {
        "id": "Dn3JdRP7AA0p"
      },
      "source": [
        "mdl_ls_cv = LassoCV(cv=cv, n_jobs=-1).fit(X, y)"
      ],
      "execution_count": null,
      "outputs": []
    },
    {
      "cell_type": "code",
      "metadata": {
        "colab": {
          "base_uri": "https://localhost:8080/"
        },
        "id": "tMHyItiHMdSE",
        "outputId": "a4fdd43e-aa80-4313-d894-79535c6b63af"
      },
      "source": [
        "# the best alpha\n",
        "ls_alpha = mdl_ls_cv.alpha_\n",
        "ls_alpha"
      ],
      "execution_count": null,
      "outputs": [
        {
          "output_type": "execute_result",
          "data": {
            "text/plain": [
              "918.2567991787705"
            ]
          },
          "metadata": {
            "tags": []
          },
          "execution_count": 22
        }
      ]
    },
    {
      "cell_type": "code",
      "metadata": {
        "id": "QFrW844iNFU1"
      },
      "source": [
        "mdl_ls = Lasso(alpha=ls_alpha).fit(X, y)\n",
        "scores_ls = cross_validate(mdl_ls, X, y, scoring=('r2', 'neg_mean_squared_error'), cv=cv, n_jobs=-1)"
      ],
      "execution_count": null,
      "outputs": []
    },
    {
      "cell_type": "code",
      "metadata": {
        "colab": {
          "base_uri": "https://localhost:8080/"
        },
        "id": "1W277SO3Nzll",
        "outputId": "20bdf409-53ec-4d0a-e0d8-175c04f5739c"
      },
      "source": [
        "scores_ls"
      ],
      "execution_count": null,
      "outputs": [
        {
          "output_type": "execute_result",
          "data": {
            "text/plain": [
              "{'fit_time': array([0.09418392, 0.05041838, 0.04099059, 0.04292178, 0.04202318,\n",
              "        0.04360843, 0.04336691, 0.03935933, 0.04194689, 0.0390954 ]),\n",
              " 'score_time': array([0.00467992, 0.00415468, 0.00451255, 0.00477052, 0.00427675,\n",
              "        0.00471854, 0.00438213, 0.0047009 , 0.00485539, 0.00409341]),\n",
              " 'test_neg_mean_squared_error': array([-0.05531765, -0.05431303, -0.05767356, -0.05815677, -0.05777717,\n",
              "        -0.0589477 , -0.05006096, -0.06298616, -0.05596416, -0.05934102]),\n",
              " 'test_r2': array([-0.00180721, -0.00026924, -0.00192853, -0.00049561, -0.00037415,\n",
              "        -0.00197188, -0.0008487 , -0.00465767, -0.00221428, -0.00302162])}"
            ]
          },
          "metadata": {
            "tags": []
          },
          "execution_count": 24
        }
      ]
    },
    {
      "cell_type": "code",
      "metadata": {
        "id": "gFICinhTN7Rx"
      },
      "source": [
        "kf_res['1_model'].append('lasso')\n",
        "kf_res['2_fit_time'].append(np.mean(scores_ls['fit_time']))\n",
        "kf_res['3_score_time'].append(np.mean(scores_ls['score_time']))\n",
        "kf_res['4_r2'].append(np.mean(scores_ls['test_r2']))\n",
        "kf_res['5_mse'].append(np.abs(np.mean(scores_ls['test_neg_mean_squared_error'])))"
      ],
      "execution_count": null,
      "outputs": []
    },
    {
      "cell_type": "code",
      "metadata": {
        "colab": {
          "base_uri": "https://localhost:8080/"
        },
        "id": "ble69eBOON1H",
        "outputId": "3a3ea895-d6da-41a4-abb7-3d02eef5ee1b"
      },
      "source": [
        "kf_res"
      ],
      "execution_count": null,
      "outputs": [
        {
          "output_type": "execute_result",
          "data": {
            "text/plain": [
              "{'1_model': ['linear regression', 'ridge', 'lasso'],\n",
              " '2_fit_time': [0.2964270353317261, 0.10867724418640137, 0.047791481018066406],\n",
              " '3_score_time': [0.0047044515609741214,\n",
              "  0.004502630233764649,\n",
              "  0.004514479637145996],\n",
              " '4_r2': [1.0, 0.9999997203937573, -0.0017588871356867264],\n",
              " '5_mse': [1.229506461893756e-20, 1.595645178552409e-08, 0.05705381678134205]}"
            ]
          },
          "metadata": {
            "tags": []
          },
          "execution_count": 26
        }
      ]
    },
    {
      "cell_type": "markdown",
      "metadata": {
        "id": "KoDJY7WlOu2_"
      },
      "source": [
        "*Elastic Net Regression*"
      ]
    },
    {
      "cell_type": "code",
      "metadata": {
        "id": "LRhuMXzQO02l"
      },
      "source": [
        "mdl_en_cv = ElasticNetCV(l1_ratio=[1, 0.5, 0.2, 0.3, 0.4, 0.01], n_alphas=100, cv=cv, n_jobs=-1).fit(X, y)"
      ],
      "execution_count": null,
      "outputs": []
    },
    {
      "cell_type": "code",
      "metadata": {
        "colab": {
          "base_uri": "https://localhost:8080/"
        },
        "id": "qVuVfZMJFaii",
        "outputId": "66a567d0-1610-4823-a414-aa0d6988e2bb"
      },
      "source": [
        "en_alpha = mdl_en_cv.alpha_\n",
        "en_alpha"
      ],
      "execution_count": null,
      "outputs": [
        {
          "output_type": "execute_result",
          "data": {
            "text/plain": [
              "91825.67991787705"
            ]
          },
          "metadata": {
            "tags": []
          },
          "execution_count": 28
        }
      ]
    },
    {
      "cell_type": "code",
      "metadata": {
        "colab": {
          "base_uri": "https://localhost:8080/"
        },
        "id": "Fkn6Z3zNFlAQ",
        "outputId": "2597b8c5-a878-4b36-fefe-4a916a4e81b9"
      },
      "source": [
        "en_l1 = mdl_en_cv.l1_ratio_\n",
        "en_l1"
      ],
      "execution_count": null,
      "outputs": [
        {
          "output_type": "execute_result",
          "data": {
            "text/plain": [
              "0.01"
            ]
          },
          "metadata": {
            "tags": []
          },
          "execution_count": 29
        }
      ]
    },
    {
      "cell_type": "code",
      "metadata": {
        "id": "Pcde6wPeFsXW"
      },
      "source": [
        "mdl_en = ElasticNet(alpha=en_alpha, l1_ratio=en_l1).fit(X, y)\n",
        "scores_en = cross_validate(mdl_en, X, y, scoring=('r2', 'neg_mean_squared_error'), cv=cv, n_jobs=-1)"
      ],
      "execution_count": null,
      "outputs": []
    },
    {
      "cell_type": "code",
      "metadata": {
        "colab": {
          "base_uri": "https://localhost:8080/"
        },
        "id": "yuGr3-f1GCty",
        "outputId": "1ce3e536-8919-42fa-e6ae-9963d5a952ee"
      },
      "source": [
        "scores_en"
      ],
      "execution_count": null,
      "outputs": [
        {
          "output_type": "execute_result",
          "data": {
            "text/plain": [
              "{'fit_time': array([0.04680943, 0.08638549, 0.04306602, 0.04565716, 0.05068088,\n",
              "        0.05280256, 0.04820395, 0.04313946, 0.0466671 , 0.03237224]),\n",
              " 'score_time': array([0.00425744, 0.00476861, 0.00435972, 0.00507736, 0.00409865,\n",
              "        0.00533581, 0.00497794, 0.00489378, 0.00461292, 0.00272894]),\n",
              " 'test_neg_mean_squared_error': array([-0.05531765, -0.05431303, -0.05767356, -0.05815677, -0.05777717,\n",
              "        -0.0589477 , -0.05006096, -0.06298616, -0.05596416, -0.05934102]),\n",
              " 'test_r2': array([-0.00180721, -0.00026924, -0.00192853, -0.00049561, -0.00037415,\n",
              "        -0.00197188, -0.0008487 , -0.00465767, -0.00221428, -0.00302162])}"
            ]
          },
          "metadata": {
            "tags": []
          },
          "execution_count": 31
        }
      ]
    },
    {
      "cell_type": "code",
      "metadata": {
        "id": "ZtVqZYByGOJx"
      },
      "source": [
        "kf_res['1_model'].append('elastic_net')\n",
        "kf_res['2_fit_time'].append(np.mean(scores_en['fit_time']))\n",
        "kf_res['3_score_time'].append(np.mean(scores_en['score_time']))\n",
        "kf_res['4_r2'].append(np.mean(scores_en['test_r2']))\n",
        "kf_res['5_mse'].append(np.abs(np.mean(scores_en['test_neg_mean_squared_error'])))"
      ],
      "execution_count": null,
      "outputs": []
    },
    {
      "cell_type": "markdown",
      "metadata": {
        "id": "Pt9wjt93GYsR"
      },
      "source": [
        "*Decision Tree Regressor*"
      ]
    },
    {
      "cell_type": "code",
      "metadata": {
        "id": "7VfVTCcjGgdi"
      },
      "source": [
        "from sklearn.metrics import make_scorer\n",
        "scorer = make_scorer(mean_squared_error, greater_is_better=False)\n",
        "pipe_tree = make_pipeline(DecisionTreeRegressor(random_state=1))\n",
        "# mdl_dt_cv = DecisionTreeRegressor()\n",
        "depths = np.arange(1, 21)\n",
        "num_leafs = [1, 5, 10, 20, 50, 100]\n",
        "param_grid = [{'decisiontreeregressor__max_depth': depths, 'decisiontreeregressor__min_samples_leaf': num_leafs}]"
      ],
      "execution_count": null,
      "outputs": []
    },
    {
      "cell_type": "code",
      "metadata": {
        "id": "D8XH-fRSIpqE"
      },
      "source": [
        "gs_dt = GridSearchCV(estimator=pipe_tree, param_grid=param_grid, scoring=scorer, cv=10)"
      ],
      "execution_count": null,
      "outputs": []
    },
    {
      "cell_type": "code",
      "metadata": {
        "colab": {
          "base_uri": "https://localhost:8080/"
        },
        "id": "H5FsaGJlJGSE",
        "outputId": "49c18c14-291a-4592-cc85-99c5336f61cb"
      },
      "source": [
        "gs_dt.fit(X, y)"
      ],
      "execution_count": null,
      "outputs": [
        {
          "output_type": "execute_result",
          "data": {
            "text/plain": [
              "GridSearchCV(cv=10, error_score=nan,\n",
              "             estimator=Pipeline(memory=None,\n",
              "                                steps=[('decisiontreeregressor',\n",
              "                                        DecisionTreeRegressor(ccp_alpha=0.0,\n",
              "                                                              criterion='mse',\n",
              "                                                              max_depth=None,\n",
              "                                                              max_features=None,\n",
              "                                                              max_leaf_nodes=None,\n",
              "                                                              min_impurity_decrease=0.0,\n",
              "                                                              min_impurity_split=None,\n",
              "                                                              min_samples_leaf=1,\n",
              "                                                              min_samples_split=2,\n",
              "                                                              min_weight_fraction_leaf=0.0,\n",
              "                                                              presort='deprecated',\n",
              "                                                              random_s...\n",
              "                                                              splitter='best'))],\n",
              "                                verbose=False),\n",
              "             iid='deprecated', n_jobs=None,\n",
              "             param_grid=[{'decisiontreeregressor__max_depth': array([ 1,  2,  3,  4,  5,  6,  7,  8,  9, 10, 11, 12, 13, 14, 15, 16, 17,\n",
              "       18, 19, 20]),\n",
              "                          'decisiontreeregressor__min_samples_leaf': [1, 5, 10,\n",
              "                                                                      20, 50,\n",
              "                                                                      100]}],\n",
              "             pre_dispatch='2*n_jobs', refit=True, return_train_score=False,\n",
              "             scoring=make_scorer(mean_squared_error, greater_is_better=False),\n",
              "             verbose=0)"
            ]
          },
          "metadata": {
            "tags": []
          },
          "execution_count": 35
        }
      ]
    },
    {
      "cell_type": "code",
      "metadata": {
        "colab": {
          "base_uri": "https://localhost:8080/"
        },
        "id": "r6qI8ug9RTJ-",
        "outputId": "b8c13a6a-6d40-4938-f38c-8de7a2350ee8"
      },
      "source": [
        "gs_dt.best_params_"
      ],
      "execution_count": null,
      "outputs": [
        {
          "output_type": "execute_result",
          "data": {
            "text/plain": [
              "{'decisiontreeregressor__max_depth': 9,\n",
              " 'decisiontreeregressor__min_samples_leaf': 1}"
            ]
          },
          "metadata": {
            "tags": []
          },
          "execution_count": 36
        }
      ]
    },
    {
      "cell_type": "code",
      "metadata": {
        "id": "zXywJGTURc2g"
      },
      "source": [
        "mdl_dt = DecisionTreeRegressor(criterion='mse', max_depth=9, min_samples_leaf=1).fit(X, y)\n",
        "scores_dt = cross_validate(mdl_dt, X, y, scoring=('r2', 'neg_mean_squared_error'), cv=cv, n_jobs=-1)"
      ],
      "execution_count": null,
      "outputs": []
    },
    {
      "cell_type": "code",
      "metadata": {
        "colab": {
          "base_uri": "https://localhost:8080/"
        },
        "id": "kLnYOicFSECH",
        "outputId": "b68361a1-23ff-47fc-9621-2c372bdc8eb7"
      },
      "source": [
        "scores_dt"
      ],
      "execution_count": null,
      "outputs": [
        {
          "output_type": "execute_result",
          "data": {
            "text/plain": [
              "{'fit_time': array([0.11542535, 0.11813927, 0.1151669 , 0.11536932, 0.11186051,\n",
              "        0.12660408, 0.11641216, 0.12375641, 0.11455798, 0.11247802]),\n",
              " 'score_time': array([0.00445986, 0.0050931 , 0.00462508, 0.00481701, 0.00450373,\n",
              "        0.0046618 , 0.00406623, 0.00478268, 0.00453115, 0.0029161 ]),\n",
              " 'test_neg_mean_squared_error': array([-2.68907563e-05, -5.47368421e-06, -6.10526316e-06, -1.38947368e-05,\n",
              "        -7.57894737e-06, -3.59157895e-04, -1.47368421e-06, -1.62573099e-06,\n",
              "        -5.26315789e-06, -2.60365199e-06]),\n",
              " 'test_r2': array([0.99951301, 0.99989919, 0.99989394, 0.99976096, 0.99986878,\n",
              "        0.99389516, 0.99997054, 0.99997407, 0.99990575, 0.99995599])}"
            ]
          },
          "metadata": {
            "tags": []
          },
          "execution_count": 38
        }
      ]
    },
    {
      "cell_type": "code",
      "metadata": {
        "id": "icISfGMsSH2T"
      },
      "source": [
        "kf_res['1_model'].append('decision_tree')\n",
        "kf_res['2_fit_time'].append(np.mean(scores_dt['fit_time']))\n",
        "kf_res['3_score_time'].append(np.mean(scores_dt['score_time']))\n",
        "kf_res['4_r2'].append(np.mean(scores_dt['test_r2']))\n",
        "kf_res['5_mse'].append(np.abs(np.mean(scores_dt['test_neg_mean_squared_error'])))"
      ],
      "execution_count": null,
      "outputs": []
    },
    {
      "cell_type": "markdown",
      "metadata": {
        "id": "cXGI-ILMGiOz"
      },
      "source": [
        "*Random Forest Regressor*"
      ]
    },
    {
      "cell_type": "code",
      "metadata": {
        "id": "1bCbQOQcGop3"
      },
      "source": [
        "param_grid = {\n",
        "    'bootstrap': [True],\n",
        "    'max_depth': [80, 90, 100, 110],\n",
        "    'max_features': [2, 3],\n",
        "    'min_samples_leaf': [3, 4, 5],\n",
        "    'min_samples_split': [8, 10, 12],\n",
        "    'n_estimators': [100, 200, 300, 1000]\n",
        "}\n",
        "\n",
        "mdl_rf_cv = RandomForestRegressor()"
      ],
      "execution_count": null,
      "outputs": []
    },
    {
      "cell_type": "code",
      "metadata": {
        "colab": {
          "base_uri": "https://localhost:8080/"
        },
        "id": "YRf8YOvTTS4C",
        "outputId": "029fd9e2-b705-47c3-ba4f-28d9247e1e78"
      },
      "source": [
        "gs_rf = GridSearchCV(estimator = mdl_rf_cv, param_grid = param_grid, cv = 10, n_jobs = -1, verbose = 2).fit(X, y)"
      ],
      "execution_count": null,
      "outputs": [
        {
          "output_type": "stream",
          "text": [
            "Fitting 10 folds for each of 288 candidates, totalling 2880 fits\n"
          ],
          "name": "stdout"
        },
        {
          "output_type": "stream",
          "text": [
            "[Parallel(n_jobs=-1)]: Using backend LokyBackend with 2 concurrent workers.\n",
            "[Parallel(n_jobs=-1)]: Done  37 tasks      | elapsed:   20.4s\n",
            "[Parallel(n_jobs=-1)]: Done 158 tasks      | elapsed:  1.5min\n",
            "[Parallel(n_jobs=-1)]: Done 361 tasks      | elapsed:  3.4min\n",
            "[Parallel(n_jobs=-1)]: Done 644 tasks      | elapsed:  6.4min\n",
            "[Parallel(n_jobs=-1)]: Done 1009 tasks      | elapsed:  9.9min\n",
            "[Parallel(n_jobs=-1)]: Done 1454 tasks      | elapsed: 14.5min\n",
            "[Parallel(n_jobs=-1)]: Done 1981 tasks      | elapsed: 19.7min\n",
            "[Parallel(n_jobs=-1)]: Done 2588 tasks      | elapsed: 25.6min\n",
            "[Parallel(n_jobs=-1)]: Done 2880 out of 2880 | elapsed: 28.9min finished\n"
          ],
          "name": "stderr"
        }
      ]
    },
    {
      "cell_type": "code",
      "metadata": {
        "colab": {
          "base_uri": "https://localhost:8080/"
        },
        "id": "PIMlIs8rat1r",
        "outputId": "42c7f49f-7401-42b3-e848-e560669c8b69"
      },
      "source": [
        "gs_rf.best_params_"
      ],
      "execution_count": null,
      "outputs": [
        {
          "output_type": "execute_result",
          "data": {
            "text/plain": [
              "{'bootstrap': True,\n",
              " 'max_depth': 90,\n",
              " 'max_features': 3,\n",
              " 'min_samples_leaf': 3,\n",
              " 'min_samples_split': 10,\n",
              " 'n_estimators': 300}"
            ]
          },
          "metadata": {
            "tags": []
          },
          "execution_count": 42
        }
      ]
    },
    {
      "cell_type": "code",
      "metadata": {
        "id": "crEZdd8ua2XZ"
      },
      "source": [
        "mdl_rf = RandomForestRegressor(n_estimators=100, criterion='mse', max_depth=110, \n",
        "                               min_samples_split=8, min_samples_leaf=3, max_features=3, bootstrap=True).fit(X, y)\n",
        "scores_rf = cross_validate(mdl_rf, X, y, scoring=('r2', 'neg_mean_squared_error'), cv=cv, n_jobs=-1)"
      ],
      "execution_count": null,
      "outputs": []
    },
    {
      "cell_type": "code",
      "metadata": {
        "colab": {
          "base_uri": "https://localhost:8080/"
        },
        "id": "yGEyPUMXbeLM",
        "outputId": "fd4ed13c-12c7-46c8-f466-abd23e3d97e7"
      },
      "source": [
        "scores_rf"
      ],
      "execution_count": null,
      "outputs": [
        {
          "output_type": "execute_result",
          "data": {
            "text/plain": [
              "{'fit_time': array([0.35858655, 0.35704684, 0.35040617, 0.37462163, 0.34792948,\n",
              "        0.38491893, 0.34580922, 0.33575678, 0.33849812, 0.32069898]),\n",
              " 'score_time': array([0.01783252, 0.01890182, 0.0173831 , 0.02149534, 0.01635337,\n",
              "        0.01803255, 0.01680803, 0.01794195, 0.01675487, 0.01032591]),\n",
              " 'test_neg_mean_squared_error': array([-0.04846817, -0.04810563, -0.05090337, -0.05392781, -0.05174194,\n",
              "        -0.05190534, -0.04113575, -0.05661853, -0.04937027, -0.0534954 ]),\n",
              " 'test_r2': array([0.12223738, 0.11405086, 0.115686  , 0.07225687, 0.10412193,\n",
              "        0.11773162, 0.17758952, 0.09690901, 0.11587002, 0.09578496])}"
            ]
          },
          "metadata": {
            "tags": []
          },
          "execution_count": 44
        }
      ]
    },
    {
      "cell_type": "code",
      "metadata": {
        "id": "jCmhRaS_brEv"
      },
      "source": [
        "kf_res['1_model'].append('random_forest')\n",
        "kf_res['2_fit_time'].append(np.mean(scores_rf['fit_time']))\n",
        "kf_res['3_score_time'].append(np.mean(scores_rf['score_time']))\n",
        "kf_res['4_r2'].append(np.mean(scores_rf['test_r2']))\n",
        "kf_res['5_mse'].append(np.abs(np.mean(scores_rf['test_neg_mean_squared_error'])))"
      ],
      "execution_count": null,
      "outputs": []
    },
    {
      "cell_type": "markdown",
      "metadata": {
        "id": "g3YLIkC_AYFQ"
      },
      "source": [
        "*Bayesian Ridge*"
      ]
    },
    {
      "cell_type": "code",
      "metadata": {
        "id": "HbO2fS78Aaqd"
      },
      "source": [
        "from sklearn.linear_model import BayesianRidge\n",
        "\n",
        "mdl_byr = BayesianRidge().fit(X, y)\n",
        "scores_byr = cross_validate(mdl_byr, X, y, scoring=('r2', 'neg_mean_squared_error'), cv=cv, n_jobs=-1)"
      ],
      "execution_count": null,
      "outputs": []
    },
    {
      "cell_type": "code",
      "metadata": {
        "colab": {
          "base_uri": "https://localhost:8080/"
        },
        "id": "iKfGUhR2A4EV",
        "outputId": "9d97df41-1251-4c1a-c3a3-fc6d4cb2393e"
      },
      "source": [
        "scores_byr"
      ],
      "execution_count": null,
      "outputs": [
        {
          "output_type": "execute_result",
          "data": {
            "text/plain": [
              "{'fit_time': array([0.71164083, 0.68576789, 0.65133333, 0.66252971, 0.63752627,\n",
              "        0.66907549, 0.64924979, 0.65121961, 0.63149786, 0.61263585]),\n",
              " 'score_time': array([0.00401711, 0.00421357, 0.004143  , 0.00395489, 0.00453401,\n",
              "        0.00374913, 0.0047524 , 0.00372386, 0.0043726 , 0.00435352]),\n",
              " 'test_neg_mean_squared_error': array([-1.41561003e-17, -9.94818824e-18, -6.15342569e-17, -3.09067439e-18,\n",
              "        -2.41529241e-18, -8.09448764e-17, -1.62063551e-17, -7.60254604e-17,\n",
              "        -3.38886572e-17, -2.60084360e-17]),\n",
              " 'test_r2': array([1., 1., 1., 1., 1., 1., 1., 1., 1., 1.])}"
            ]
          },
          "metadata": {
            "tags": []
          },
          "execution_count": 47
        }
      ]
    },
    {
      "cell_type": "code",
      "metadata": {
        "id": "6euOBRcIA_gy"
      },
      "source": [
        "kf_res['1_model'].append('bayesian ridge')\n",
        "kf_res['2_fit_time'].append(np.mean(scores_byr['fit_time']))\n",
        "kf_res['3_score_time'].append(np.mean(scores_byr['score_time']))\n",
        "kf_res['4_r2'].append(np.mean(scores_byr['test_r2']))\n",
        "kf_res['5_mse'].append(np.abs(np.mean(scores_byr['test_neg_mean_squared_error'])))"
      ],
      "execution_count": null,
      "outputs": []
    },
    {
      "cell_type": "code",
      "metadata": {
        "colab": {
          "base_uri": "https://localhost:8080/"
        },
        "id": "6yF0vbMABMXi",
        "outputId": "72ac1fc5-201b-4674-fea2-2431a270af72"
      },
      "source": [
        "kf_res"
      ],
      "execution_count": null,
      "outputs": [
        {
          "output_type": "execute_result",
          "data": {
            "text/plain": [
              "{'1_model': ['linear regression',\n",
              "  'ridge',\n",
              "  'lasso',\n",
              "  'elastic_net',\n",
              "  'decision_tree',\n",
              "  'random_forest',\n",
              "  'bayesian ridge'],\n",
              " '2_fit_time': [0.2964270353317261,\n",
              "  0.10867724418640137,\n",
              "  0.047791481018066406,\n",
              "  0.04957842826843262,\n",
              "  0.11697700023651122,\n",
              "  0.3514272689819336,\n",
              "  0.6562476634979248],\n",
              " '3_score_time': [0.0047044515609741214,\n",
              "  0.004502630233764649,\n",
              "  0.004514479637145996,\n",
              "  0.004511117935180664,\n",
              "  0.004445672035217285,\n",
              "  0.01718294620513916,\n",
              "  0.004181408882141113],\n",
              " '4_r2': [1.0,\n",
              "  0.9999997203937573,\n",
              "  -0.0017588871356867264,\n",
              "  -0.0017588866246517787,\n",
              "  0.9992637380667297,\n",
              "  0.11322381533150867,\n",
              "  0.9999999999999994],\n",
              " '5_mse': [1.229506461893756e-20,\n",
              "  1.595645178552409e-08,\n",
              "  0.05705381678134205,\n",
              "  0.057053816751893416,\n",
              "  4.300675077048357e-05,\n",
              "  0.05056722014457775,\n",
              "  3.242182973879564e-17]}"
            ]
          },
          "metadata": {
            "tags": []
          },
          "execution_count": 49
        }
      ]
    },
    {
      "cell_type": "markdown",
      "metadata": {
        "id": "NKlM5KeJdV9T"
      },
      "source": [
        "*Results*"
      ]
    },
    {
      "cell_type": "code",
      "metadata": {
        "id": "FFSODRu0dYBI"
      },
      "source": [
        "kf_results = pd.DataFrame(kf_res)"
      ],
      "execution_count": 51,
      "outputs": []
    },
    {
      "cell_type": "code",
      "metadata": {
        "colab": {
          "base_uri": "https://localhost:8080/",
          "height": 258
        },
        "id": "lyvc9kRjdd7h",
        "outputId": "3cc4982e-bcf1-487e-e81c-4985276903fd"
      },
      "source": [
        "kf_results"
      ],
      "execution_count": 52,
      "outputs": [
        {
          "output_type": "execute_result",
          "data": {
            "text/html": [
              "<div>\n",
              "<style scoped>\n",
              "    .dataframe tbody tr th:only-of-type {\n",
              "        vertical-align: middle;\n",
              "    }\n",
              "\n",
              "    .dataframe tbody tr th {\n",
              "        vertical-align: top;\n",
              "    }\n",
              "\n",
              "    .dataframe thead th {\n",
              "        text-align: right;\n",
              "    }\n",
              "</style>\n",
              "<table border=\"1\" class=\"dataframe\">\n",
              "  <thead>\n",
              "    <tr style=\"text-align: right;\">\n",
              "      <th></th>\n",
              "      <th>1_model</th>\n",
              "      <th>2_fit_time</th>\n",
              "      <th>3_score_time</th>\n",
              "      <th>4_r2</th>\n",
              "      <th>5_mse</th>\n",
              "    </tr>\n",
              "  </thead>\n",
              "  <tbody>\n",
              "    <tr>\n",
              "      <th>0</th>\n",
              "      <td>linear regression</td>\n",
              "      <td>0.296427</td>\n",
              "      <td>0.004704</td>\n",
              "      <td>1.000000</td>\n",
              "      <td>1.229506e-20</td>\n",
              "    </tr>\n",
              "    <tr>\n",
              "      <th>1</th>\n",
              "      <td>ridge</td>\n",
              "      <td>0.108677</td>\n",
              "      <td>0.004503</td>\n",
              "      <td>1.000000</td>\n",
              "      <td>1.595645e-08</td>\n",
              "    </tr>\n",
              "    <tr>\n",
              "      <th>2</th>\n",
              "      <td>lasso</td>\n",
              "      <td>0.047791</td>\n",
              "      <td>0.004514</td>\n",
              "      <td>-0.001759</td>\n",
              "      <td>5.705382e-02</td>\n",
              "    </tr>\n",
              "    <tr>\n",
              "      <th>3</th>\n",
              "      <td>elastic_net</td>\n",
              "      <td>0.049578</td>\n",
              "      <td>0.004511</td>\n",
              "      <td>-0.001759</td>\n",
              "      <td>5.705382e-02</td>\n",
              "    </tr>\n",
              "    <tr>\n",
              "      <th>4</th>\n",
              "      <td>decision_tree</td>\n",
              "      <td>0.116977</td>\n",
              "      <td>0.004446</td>\n",
              "      <td>0.999264</td>\n",
              "      <td>4.300675e-05</td>\n",
              "    </tr>\n",
              "    <tr>\n",
              "      <th>5</th>\n",
              "      <td>random_forest</td>\n",
              "      <td>0.351427</td>\n",
              "      <td>0.017183</td>\n",
              "      <td>0.113224</td>\n",
              "      <td>5.056722e-02</td>\n",
              "    </tr>\n",
              "    <tr>\n",
              "      <th>6</th>\n",
              "      <td>bayesian ridge</td>\n",
              "      <td>0.656248</td>\n",
              "      <td>0.004181</td>\n",
              "      <td>1.000000</td>\n",
              "      <td>3.242183e-17</td>\n",
              "    </tr>\n",
              "  </tbody>\n",
              "</table>\n",
              "</div>"
            ],
            "text/plain": [
              "             1_model  2_fit_time  3_score_time      4_r2         5_mse\n",
              "0  linear regression    0.296427      0.004704  1.000000  1.229506e-20\n",
              "1              ridge    0.108677      0.004503  1.000000  1.595645e-08\n",
              "2              lasso    0.047791      0.004514 -0.001759  5.705382e-02\n",
              "3        elastic_net    0.049578      0.004511 -0.001759  5.705382e-02\n",
              "4      decision_tree    0.116977      0.004446  0.999264  4.300675e-05\n",
              "5      random_forest    0.351427      0.017183  0.113224  5.056722e-02\n",
              "6     bayesian ridge    0.656248      0.004181  1.000000  3.242183e-17"
            ]
          },
          "metadata": {
            "tags": []
          },
          "execution_count": 52
        }
      ]
    }
  ]
}