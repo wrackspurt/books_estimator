{
  "nbformat": 4,
  "nbformat_minor": 0,
  "metadata": {
    "colab": {
      "name": "notsurebutfinal.ipynb",
      "provenance": [],
      "toc_visible": true
    },
    "kernelspec": {
      "name": "python3",
      "display_name": "Python 3"
    },
    "language_info": {
      "name": "python"
    }
  },
  "cells": [
    {
      "cell_type": "markdown",
      "metadata": {
        "id": "qPBVNotbrXP2"
      },
      "source": [
        "# **Model Selection**"
      ]
    },
    {
      "cell_type": "markdown",
      "metadata": {
        "id": "94m7rTRorpAs"
      },
      "source": [
        "## **Data preparation**"
      ]
    },
    {
      "cell_type": "code",
      "metadata": {
        "id": "m_K6GPwOrQUh"
      },
      "source": [
        "import pandas as pd\n",
        "import numpy as np"
      ],
      "execution_count": 2,
      "outputs": []
    },
    {
      "cell_type": "code",
      "metadata": {
        "id": "CZp2OaMcsBYY"
      },
      "source": [
        "ds = pd.read_csv('bdata_dummies.csv')"
      ],
      "execution_count": 3,
      "outputs": []
    },
    {
      "cell_type": "code",
      "metadata": {
        "colab": {
          "base_uri": "https://localhost:8080/",
          "height": 1000
        },
        "id": "_Z2nLt7AsFeq",
        "outputId": "743b4990-e252-4ff6-bf6a-810dd852cbd0"
      },
      "source": [
        "ds"
      ],
      "execution_count": 4,
      "outputs": [
        {
          "output_type": "execute_result",
          "data": {
            "text/html": [
              "<div>\n",
              "<style scoped>\n",
              "    .dataframe tbody tr th:only-of-type {\n",
              "        vertical-align: middle;\n",
              "    }\n",
              "\n",
              "    .dataframe tbody tr th {\n",
              "        vertical-align: top;\n",
              "    }\n",
              "\n",
              "    .dataframe thead th {\n",
              "        text-align: right;\n",
              "    }\n",
              "</style>\n",
              "<table border=\"1\" class=\"dataframe\">\n",
              "  <thead>\n",
              "    <tr style=\"text-align: right;\">\n",
              "      <th></th>\n",
              "      <th>book_authors</th>\n",
              "      <th>book_title</th>\n",
              "      <th>book_desc</th>\n",
              "      <th>book_rating</th>\n",
              "      <th>book_rating_count</th>\n",
              "      <th>book_review_count</th>\n",
              "      <th>genres</th>\n",
              "      <th>anger</th>\n",
              "      <th>fear</th>\n",
              "      <th>happiness</th>\n",
              "      <th>sadness</th>\n",
              "      <th>surprise</th>\n",
              "      <th>emotion_index</th>\n",
              "      <th>16th Century</th>\n",
              "      <th>18th Century</th>\n",
              "      <th>19th Century</th>\n",
              "      <th>20th Century</th>\n",
              "      <th>21st Century</th>\n",
              "      <th>Abandoned</th>\n",
              "      <th>Abuse</th>\n",
              "      <th>Academic</th>\n",
              "      <th>Action</th>\n",
              "      <th>Adoption</th>\n",
              "      <th>Adult</th>\n",
              "      <th>Adult Fiction</th>\n",
              "      <th>Adventure</th>\n",
              "      <th>Africa</th>\n",
              "      <th>African American</th>\n",
              "      <th>African American Literature</th>\n",
              "      <th>Aliens</th>\n",
              "      <th>Alternate History</th>\n",
              "      <th>Amazon</th>\n",
              "      <th>American</th>\n",
              "      <th>American Civil War</th>\n",
              "      <th>American History</th>\n",
              "      <th>American Revolution</th>\n",
              "      <th>Americana</th>\n",
              "      <th>Amish</th>\n",
              "      <th>Ancient</th>\n",
              "      <th>Ancient History</th>\n",
              "      <th>...</th>\n",
              "      <th>Transgender</th>\n",
              "      <th>Travel</th>\n",
              "      <th>True Crime</th>\n",
              "      <th>True Story</th>\n",
              "      <th>Tudor Period</th>\n",
              "      <th>Turkish</th>\n",
              "      <th>Turkish Literature</th>\n",
              "      <th>Ukraine</th>\n",
              "      <th>Unfinished</th>\n",
              "      <th>Urban</th>\n",
              "      <th>Urban Fantasy</th>\n",
              "      <th>Vampires</th>\n",
              "      <th>Vegan</th>\n",
              "      <th>Vegetarian</th>\n",
              "      <th>Vegetarianism</th>\n",
              "      <th>Victorian</th>\n",
              "      <th>Video Games</th>\n",
              "      <th>War</th>\n",
              "      <th>Warfare</th>\n",
              "      <th>Weird Fiction</th>\n",
              "      <th>Werewolves</th>\n",
              "      <th>Western Africa</th>\n",
              "      <th>Western Romance</th>\n",
              "      <th>Westerns</th>\n",
              "      <th>Wildlife</th>\n",
              "      <th>Witchcraft</th>\n",
              "      <th>Witches</th>\n",
              "      <th>Wolves</th>\n",
              "      <th>Womens</th>\n",
              "      <th>Womens Fiction</th>\n",
              "      <th>World History</th>\n",
              "      <th>World War I</th>\n",
              "      <th>World War II</th>\n",
              "      <th>Writing</th>\n",
              "      <th>Young Adult</th>\n",
              "      <th>Young Adult Contemporary</th>\n",
              "      <th>Young Adult Fantasy</th>\n",
              "      <th>Young Adult Paranormal</th>\n",
              "      <th>Young Adult Romance</th>\n",
              "      <th>Zombies</th>\n",
              "    </tr>\n",
              "  </thead>\n",
              "  <tbody>\n",
              "    <tr>\n",
              "      <th>0</th>\n",
              "      <td>Suzanne Collins</td>\n",
              "      <td>The Hunger Games</td>\n",
              "      <td>Winning will make you famous. Losing means cer...</td>\n",
              "      <td>4.33</td>\n",
              "      <td>5519135</td>\n",
              "      <td>160706</td>\n",
              "      <td>Young Adult|Fiction|Science Fiction|Dystopia|F...</td>\n",
              "      <td>0.07</td>\n",
              "      <td>0.48</td>\n",
              "      <td>0.07</td>\n",
              "      <td>0.30</td>\n",
              "      <td>0.07</td>\n",
              "      <td>0.198</td>\n",
              "      <td>0</td>\n",
              "      <td>0</td>\n",
              "      <td>0</td>\n",
              "      <td>0</td>\n",
              "      <td>0</td>\n",
              "      <td>0</td>\n",
              "      <td>0</td>\n",
              "      <td>0</td>\n",
              "      <td>0</td>\n",
              "      <td>0</td>\n",
              "      <td>0</td>\n",
              "      <td>0</td>\n",
              "      <td>0</td>\n",
              "      <td>0</td>\n",
              "      <td>0</td>\n",
              "      <td>0</td>\n",
              "      <td>0</td>\n",
              "      <td>0</td>\n",
              "      <td>0</td>\n",
              "      <td>0</td>\n",
              "      <td>0</td>\n",
              "      <td>0</td>\n",
              "      <td>0</td>\n",
              "      <td>0</td>\n",
              "      <td>0</td>\n",
              "      <td>0</td>\n",
              "      <td>0</td>\n",
              "      <td>...</td>\n",
              "      <td>0</td>\n",
              "      <td>0</td>\n",
              "      <td>0</td>\n",
              "      <td>0</td>\n",
              "      <td>0</td>\n",
              "      <td>0</td>\n",
              "      <td>0</td>\n",
              "      <td>0</td>\n",
              "      <td>0</td>\n",
              "      <td>0</td>\n",
              "      <td>0</td>\n",
              "      <td>0</td>\n",
              "      <td>0</td>\n",
              "      <td>0</td>\n",
              "      <td>0</td>\n",
              "      <td>0</td>\n",
              "      <td>0</td>\n",
              "      <td>0</td>\n",
              "      <td>0</td>\n",
              "      <td>0</td>\n",
              "      <td>0</td>\n",
              "      <td>0</td>\n",
              "      <td>0</td>\n",
              "      <td>0</td>\n",
              "      <td>0</td>\n",
              "      <td>0</td>\n",
              "      <td>0</td>\n",
              "      <td>0</td>\n",
              "      <td>0</td>\n",
              "      <td>0</td>\n",
              "      <td>0</td>\n",
              "      <td>0</td>\n",
              "      <td>0</td>\n",
              "      <td>0</td>\n",
              "      <td>1</td>\n",
              "      <td>0</td>\n",
              "      <td>0</td>\n",
              "      <td>0</td>\n",
              "      <td>0</td>\n",
              "      <td>0</td>\n",
              "    </tr>\n",
              "    <tr>\n",
              "      <th>1</th>\n",
              "      <td>J.K. Rowling</td>\n",
              "      <td>Harry Potter and the Order of the Phoenix</td>\n",
              "      <td>There is a door at the end of a silent corrido...</td>\n",
              "      <td>4.48</td>\n",
              "      <td>2041594</td>\n",
              "      <td>33264</td>\n",
              "      <td>Fantasy|Young Adult|Fiction</td>\n",
              "      <td>0.04</td>\n",
              "      <td>0.59</td>\n",
              "      <td>0.07</td>\n",
              "      <td>0.11</td>\n",
              "      <td>0.19</td>\n",
              "      <td>0.200</td>\n",
              "      <td>0</td>\n",
              "      <td>0</td>\n",
              "      <td>0</td>\n",
              "      <td>0</td>\n",
              "      <td>0</td>\n",
              "      <td>0</td>\n",
              "      <td>0</td>\n",
              "      <td>0</td>\n",
              "      <td>0</td>\n",
              "      <td>0</td>\n",
              "      <td>0</td>\n",
              "      <td>0</td>\n",
              "      <td>0</td>\n",
              "      <td>0</td>\n",
              "      <td>0</td>\n",
              "      <td>0</td>\n",
              "      <td>0</td>\n",
              "      <td>0</td>\n",
              "      <td>0</td>\n",
              "      <td>0</td>\n",
              "      <td>0</td>\n",
              "      <td>0</td>\n",
              "      <td>0</td>\n",
              "      <td>0</td>\n",
              "      <td>0</td>\n",
              "      <td>0</td>\n",
              "      <td>0</td>\n",
              "      <td>...</td>\n",
              "      <td>0</td>\n",
              "      <td>0</td>\n",
              "      <td>0</td>\n",
              "      <td>0</td>\n",
              "      <td>0</td>\n",
              "      <td>0</td>\n",
              "      <td>0</td>\n",
              "      <td>0</td>\n",
              "      <td>0</td>\n",
              "      <td>0</td>\n",
              "      <td>0</td>\n",
              "      <td>0</td>\n",
              "      <td>0</td>\n",
              "      <td>0</td>\n",
              "      <td>0</td>\n",
              "      <td>0</td>\n",
              "      <td>0</td>\n",
              "      <td>0</td>\n",
              "      <td>0</td>\n",
              "      <td>0</td>\n",
              "      <td>0</td>\n",
              "      <td>0</td>\n",
              "      <td>0</td>\n",
              "      <td>0</td>\n",
              "      <td>0</td>\n",
              "      <td>0</td>\n",
              "      <td>0</td>\n",
              "      <td>0</td>\n",
              "      <td>0</td>\n",
              "      <td>0</td>\n",
              "      <td>0</td>\n",
              "      <td>0</td>\n",
              "      <td>0</td>\n",
              "      <td>0</td>\n",
              "      <td>1</td>\n",
              "      <td>0</td>\n",
              "      <td>0</td>\n",
              "      <td>0</td>\n",
              "      <td>0</td>\n",
              "      <td>0</td>\n",
              "    </tr>\n",
              "    <tr>\n",
              "      <th>2</th>\n",
              "      <td>Harper Lee</td>\n",
              "      <td>To Kill a Mockingbird</td>\n",
              "      <td>The unforgettable novel of a childhood in a sl...</td>\n",
              "      <td>4.27</td>\n",
              "      <td>3745197</td>\n",
              "      <td>79450</td>\n",
              "      <td>Classics|Fiction|Historical|Historical Fiction...</td>\n",
              "      <td>0.00</td>\n",
              "      <td>0.30</td>\n",
              "      <td>0.11</td>\n",
              "      <td>0.30</td>\n",
              "      <td>0.30</td>\n",
              "      <td>0.202</td>\n",
              "      <td>0</td>\n",
              "      <td>0</td>\n",
              "      <td>0</td>\n",
              "      <td>0</td>\n",
              "      <td>0</td>\n",
              "      <td>0</td>\n",
              "      <td>0</td>\n",
              "      <td>1</td>\n",
              "      <td>0</td>\n",
              "      <td>0</td>\n",
              "      <td>0</td>\n",
              "      <td>0</td>\n",
              "      <td>0</td>\n",
              "      <td>0</td>\n",
              "      <td>0</td>\n",
              "      <td>0</td>\n",
              "      <td>0</td>\n",
              "      <td>0</td>\n",
              "      <td>0</td>\n",
              "      <td>0</td>\n",
              "      <td>0</td>\n",
              "      <td>0</td>\n",
              "      <td>0</td>\n",
              "      <td>0</td>\n",
              "      <td>0</td>\n",
              "      <td>0</td>\n",
              "      <td>0</td>\n",
              "      <td>...</td>\n",
              "      <td>0</td>\n",
              "      <td>0</td>\n",
              "      <td>0</td>\n",
              "      <td>0</td>\n",
              "      <td>0</td>\n",
              "      <td>0</td>\n",
              "      <td>0</td>\n",
              "      <td>0</td>\n",
              "      <td>0</td>\n",
              "      <td>0</td>\n",
              "      <td>0</td>\n",
              "      <td>0</td>\n",
              "      <td>0</td>\n",
              "      <td>0</td>\n",
              "      <td>0</td>\n",
              "      <td>0</td>\n",
              "      <td>0</td>\n",
              "      <td>0</td>\n",
              "      <td>0</td>\n",
              "      <td>0</td>\n",
              "      <td>0</td>\n",
              "      <td>0</td>\n",
              "      <td>0</td>\n",
              "      <td>0</td>\n",
              "      <td>0</td>\n",
              "      <td>0</td>\n",
              "      <td>0</td>\n",
              "      <td>0</td>\n",
              "      <td>0</td>\n",
              "      <td>0</td>\n",
              "      <td>0</td>\n",
              "      <td>0</td>\n",
              "      <td>0</td>\n",
              "      <td>0</td>\n",
              "      <td>0</td>\n",
              "      <td>0</td>\n",
              "      <td>0</td>\n",
              "      <td>0</td>\n",
              "      <td>0</td>\n",
              "      <td>0</td>\n",
              "    </tr>\n",
              "    <tr>\n",
              "      <th>3</th>\n",
              "      <td>Stephenie Meyer</td>\n",
              "      <td>Twilight</td>\n",
              "      <td>About three things I was absolutely positive.F...</td>\n",
              "      <td>3.58</td>\n",
              "      <td>4281268</td>\n",
              "      <td>97991</td>\n",
              "      <td>Young Adult|Fantasy|Romance|Paranormal|Vampire...</td>\n",
              "      <td>0.10</td>\n",
              "      <td>0.20</td>\n",
              "      <td>0.20</td>\n",
              "      <td>0.20</td>\n",
              "      <td>0.30</td>\n",
              "      <td>0.200</td>\n",
              "      <td>0</td>\n",
              "      <td>0</td>\n",
              "      <td>0</td>\n",
              "      <td>0</td>\n",
              "      <td>0</td>\n",
              "      <td>0</td>\n",
              "      <td>0</td>\n",
              "      <td>0</td>\n",
              "      <td>0</td>\n",
              "      <td>0</td>\n",
              "      <td>0</td>\n",
              "      <td>0</td>\n",
              "      <td>0</td>\n",
              "      <td>0</td>\n",
              "      <td>0</td>\n",
              "      <td>0</td>\n",
              "      <td>0</td>\n",
              "      <td>0</td>\n",
              "      <td>0</td>\n",
              "      <td>0</td>\n",
              "      <td>0</td>\n",
              "      <td>0</td>\n",
              "      <td>0</td>\n",
              "      <td>0</td>\n",
              "      <td>0</td>\n",
              "      <td>0</td>\n",
              "      <td>0</td>\n",
              "      <td>...</td>\n",
              "      <td>0</td>\n",
              "      <td>0</td>\n",
              "      <td>0</td>\n",
              "      <td>0</td>\n",
              "      <td>0</td>\n",
              "      <td>0</td>\n",
              "      <td>0</td>\n",
              "      <td>0</td>\n",
              "      <td>0</td>\n",
              "      <td>0</td>\n",
              "      <td>0</td>\n",
              "      <td>1</td>\n",
              "      <td>0</td>\n",
              "      <td>0</td>\n",
              "      <td>0</td>\n",
              "      <td>0</td>\n",
              "      <td>0</td>\n",
              "      <td>0</td>\n",
              "      <td>0</td>\n",
              "      <td>0</td>\n",
              "      <td>0</td>\n",
              "      <td>0</td>\n",
              "      <td>0</td>\n",
              "      <td>0</td>\n",
              "      <td>0</td>\n",
              "      <td>0</td>\n",
              "      <td>0</td>\n",
              "      <td>0</td>\n",
              "      <td>0</td>\n",
              "      <td>0</td>\n",
              "      <td>0</td>\n",
              "      <td>0</td>\n",
              "      <td>0</td>\n",
              "      <td>0</td>\n",
              "      <td>1</td>\n",
              "      <td>0</td>\n",
              "      <td>0</td>\n",
              "      <td>0</td>\n",
              "      <td>0</td>\n",
              "      <td>0</td>\n",
              "    </tr>\n",
              "    <tr>\n",
              "      <th>4</th>\n",
              "      <td>Markus Zusak</td>\n",
              "      <td>The Book Thief</td>\n",
              "      <td>Trying to make sense of the horrors of World W...</td>\n",
              "      <td>4.36</td>\n",
              "      <td>1485632</td>\n",
              "      <td>100821</td>\n",
              "      <td>Historical|Historical Fiction|Fiction|Young Adult</td>\n",
              "      <td>0.12</td>\n",
              "      <td>0.12</td>\n",
              "      <td>0.00</td>\n",
              "      <td>0.12</td>\n",
              "      <td>0.62</td>\n",
              "      <td>0.196</td>\n",
              "      <td>0</td>\n",
              "      <td>0</td>\n",
              "      <td>0</td>\n",
              "      <td>0</td>\n",
              "      <td>0</td>\n",
              "      <td>0</td>\n",
              "      <td>0</td>\n",
              "      <td>0</td>\n",
              "      <td>0</td>\n",
              "      <td>0</td>\n",
              "      <td>0</td>\n",
              "      <td>0</td>\n",
              "      <td>0</td>\n",
              "      <td>0</td>\n",
              "      <td>0</td>\n",
              "      <td>0</td>\n",
              "      <td>0</td>\n",
              "      <td>0</td>\n",
              "      <td>0</td>\n",
              "      <td>0</td>\n",
              "      <td>0</td>\n",
              "      <td>0</td>\n",
              "      <td>0</td>\n",
              "      <td>0</td>\n",
              "      <td>0</td>\n",
              "      <td>0</td>\n",
              "      <td>0</td>\n",
              "      <td>...</td>\n",
              "      <td>0</td>\n",
              "      <td>0</td>\n",
              "      <td>0</td>\n",
              "      <td>0</td>\n",
              "      <td>0</td>\n",
              "      <td>0</td>\n",
              "      <td>0</td>\n",
              "      <td>0</td>\n",
              "      <td>0</td>\n",
              "      <td>0</td>\n",
              "      <td>0</td>\n",
              "      <td>0</td>\n",
              "      <td>0</td>\n",
              "      <td>0</td>\n",
              "      <td>0</td>\n",
              "      <td>0</td>\n",
              "      <td>0</td>\n",
              "      <td>0</td>\n",
              "      <td>0</td>\n",
              "      <td>0</td>\n",
              "      <td>0</td>\n",
              "      <td>0</td>\n",
              "      <td>0</td>\n",
              "      <td>0</td>\n",
              "      <td>0</td>\n",
              "      <td>0</td>\n",
              "      <td>0</td>\n",
              "      <td>0</td>\n",
              "      <td>0</td>\n",
              "      <td>0</td>\n",
              "      <td>0</td>\n",
              "      <td>0</td>\n",
              "      <td>0</td>\n",
              "      <td>0</td>\n",
              "      <td>1</td>\n",
              "      <td>0</td>\n",
              "      <td>0</td>\n",
              "      <td>0</td>\n",
              "      <td>0</td>\n",
              "      <td>0</td>\n",
              "    </tr>\n",
              "    <tr>\n",
              "      <th>...</th>\n",
              "      <td>...</td>\n",
              "      <td>...</td>\n",
              "      <td>...</td>\n",
              "      <td>...</td>\n",
              "      <td>...</td>\n",
              "      <td>...</td>\n",
              "      <td>...</td>\n",
              "      <td>...</td>\n",
              "      <td>...</td>\n",
              "      <td>...</td>\n",
              "      <td>...</td>\n",
              "      <td>...</td>\n",
              "      <td>...</td>\n",
              "      <td>...</td>\n",
              "      <td>...</td>\n",
              "      <td>...</td>\n",
              "      <td>...</td>\n",
              "      <td>...</td>\n",
              "      <td>...</td>\n",
              "      <td>...</td>\n",
              "      <td>...</td>\n",
              "      <td>...</td>\n",
              "      <td>...</td>\n",
              "      <td>...</td>\n",
              "      <td>...</td>\n",
              "      <td>...</td>\n",
              "      <td>...</td>\n",
              "      <td>...</td>\n",
              "      <td>...</td>\n",
              "      <td>...</td>\n",
              "      <td>...</td>\n",
              "      <td>...</td>\n",
              "      <td>...</td>\n",
              "      <td>...</td>\n",
              "      <td>...</td>\n",
              "      <td>...</td>\n",
              "      <td>...</td>\n",
              "      <td>...</td>\n",
              "      <td>...</td>\n",
              "      <td>...</td>\n",
              "      <td>...</td>\n",
              "      <td>...</td>\n",
              "      <td>...</td>\n",
              "      <td>...</td>\n",
              "      <td>...</td>\n",
              "      <td>...</td>\n",
              "      <td>...</td>\n",
              "      <td>...</td>\n",
              "      <td>...</td>\n",
              "      <td>...</td>\n",
              "      <td>...</td>\n",
              "      <td>...</td>\n",
              "      <td>...</td>\n",
              "      <td>...</td>\n",
              "      <td>...</td>\n",
              "      <td>...</td>\n",
              "      <td>...</td>\n",
              "      <td>...</td>\n",
              "      <td>...</td>\n",
              "      <td>...</td>\n",
              "      <td>...</td>\n",
              "      <td>...</td>\n",
              "      <td>...</td>\n",
              "      <td>...</td>\n",
              "      <td>...</td>\n",
              "      <td>...</td>\n",
              "      <td>...</td>\n",
              "      <td>...</td>\n",
              "      <td>...</td>\n",
              "      <td>...</td>\n",
              "      <td>...</td>\n",
              "      <td>...</td>\n",
              "      <td>...</td>\n",
              "      <td>...</td>\n",
              "      <td>...</td>\n",
              "      <td>...</td>\n",
              "      <td>...</td>\n",
              "      <td>...</td>\n",
              "      <td>...</td>\n",
              "      <td>...</td>\n",
              "      <td>...</td>\n",
              "    </tr>\n",
              "    <tr>\n",
              "      <th>4746</th>\n",
              "      <td>Steve Kluger</td>\n",
              "      <td>My Most Excellent Year</td>\n",
              "      <td>Dear Anthony:I appreciate your recent interest...</td>\n",
              "      <td>4.04</td>\n",
              "      <td>7279</td>\n",
              "      <td>1072</td>\n",
              "      <td>Young Adult|Fiction|Romance|Lgbt|Contemporary|...</td>\n",
              "      <td>0.08</td>\n",
              "      <td>0.23</td>\n",
              "      <td>0.38</td>\n",
              "      <td>0.08</td>\n",
              "      <td>0.23</td>\n",
              "      <td>0.200</td>\n",
              "      <td>0</td>\n",
              "      <td>0</td>\n",
              "      <td>0</td>\n",
              "      <td>0</td>\n",
              "      <td>0</td>\n",
              "      <td>0</td>\n",
              "      <td>0</td>\n",
              "      <td>0</td>\n",
              "      <td>0</td>\n",
              "      <td>0</td>\n",
              "      <td>0</td>\n",
              "      <td>0</td>\n",
              "      <td>0</td>\n",
              "      <td>0</td>\n",
              "      <td>0</td>\n",
              "      <td>0</td>\n",
              "      <td>0</td>\n",
              "      <td>0</td>\n",
              "      <td>0</td>\n",
              "      <td>0</td>\n",
              "      <td>0</td>\n",
              "      <td>0</td>\n",
              "      <td>0</td>\n",
              "      <td>0</td>\n",
              "      <td>0</td>\n",
              "      <td>0</td>\n",
              "      <td>0</td>\n",
              "      <td>...</td>\n",
              "      <td>0</td>\n",
              "      <td>0</td>\n",
              "      <td>0</td>\n",
              "      <td>0</td>\n",
              "      <td>0</td>\n",
              "      <td>0</td>\n",
              "      <td>0</td>\n",
              "      <td>0</td>\n",
              "      <td>0</td>\n",
              "      <td>0</td>\n",
              "      <td>0</td>\n",
              "      <td>0</td>\n",
              "      <td>0</td>\n",
              "      <td>0</td>\n",
              "      <td>0</td>\n",
              "      <td>0</td>\n",
              "      <td>0</td>\n",
              "      <td>0</td>\n",
              "      <td>0</td>\n",
              "      <td>0</td>\n",
              "      <td>0</td>\n",
              "      <td>0</td>\n",
              "      <td>0</td>\n",
              "      <td>0</td>\n",
              "      <td>0</td>\n",
              "      <td>0</td>\n",
              "      <td>0</td>\n",
              "      <td>0</td>\n",
              "      <td>0</td>\n",
              "      <td>0</td>\n",
              "      <td>0</td>\n",
              "      <td>0</td>\n",
              "      <td>0</td>\n",
              "      <td>0</td>\n",
              "      <td>1</td>\n",
              "      <td>0</td>\n",
              "      <td>0</td>\n",
              "      <td>0</td>\n",
              "      <td>0</td>\n",
              "      <td>0</td>\n",
              "    </tr>\n",
              "    <tr>\n",
              "      <th>4747</th>\n",
              "      <td>Kimberly Derting</td>\n",
              "      <td>Desires of the Dead</td>\n",
              "      <td>The missing dead call to Violet. They want to ...</td>\n",
              "      <td>4.06</td>\n",
              "      <td>22320</td>\n",
              "      <td>1605</td>\n",
              "      <td>Mystery|Romance|Fantasy|Young Adult|Fantasy|Su...</td>\n",
              "      <td>0.00</td>\n",
              "      <td>0.45</td>\n",
              "      <td>0.07</td>\n",
              "      <td>0.24</td>\n",
              "      <td>0.24</td>\n",
              "      <td>0.200</td>\n",
              "      <td>0</td>\n",
              "      <td>0</td>\n",
              "      <td>0</td>\n",
              "      <td>0</td>\n",
              "      <td>0</td>\n",
              "      <td>0</td>\n",
              "      <td>0</td>\n",
              "      <td>0</td>\n",
              "      <td>0</td>\n",
              "      <td>0</td>\n",
              "      <td>0</td>\n",
              "      <td>0</td>\n",
              "      <td>0</td>\n",
              "      <td>0</td>\n",
              "      <td>0</td>\n",
              "      <td>0</td>\n",
              "      <td>0</td>\n",
              "      <td>0</td>\n",
              "      <td>0</td>\n",
              "      <td>0</td>\n",
              "      <td>0</td>\n",
              "      <td>0</td>\n",
              "      <td>0</td>\n",
              "      <td>0</td>\n",
              "      <td>0</td>\n",
              "      <td>0</td>\n",
              "      <td>0</td>\n",
              "      <td>...</td>\n",
              "      <td>0</td>\n",
              "      <td>0</td>\n",
              "      <td>0</td>\n",
              "      <td>0</td>\n",
              "      <td>0</td>\n",
              "      <td>0</td>\n",
              "      <td>0</td>\n",
              "      <td>0</td>\n",
              "      <td>0</td>\n",
              "      <td>0</td>\n",
              "      <td>0</td>\n",
              "      <td>0</td>\n",
              "      <td>0</td>\n",
              "      <td>0</td>\n",
              "      <td>0</td>\n",
              "      <td>0</td>\n",
              "      <td>0</td>\n",
              "      <td>0</td>\n",
              "      <td>0</td>\n",
              "      <td>0</td>\n",
              "      <td>0</td>\n",
              "      <td>0</td>\n",
              "      <td>0</td>\n",
              "      <td>0</td>\n",
              "      <td>0</td>\n",
              "      <td>0</td>\n",
              "      <td>0</td>\n",
              "      <td>0</td>\n",
              "      <td>0</td>\n",
              "      <td>0</td>\n",
              "      <td>0</td>\n",
              "      <td>0</td>\n",
              "      <td>0</td>\n",
              "      <td>0</td>\n",
              "      <td>1</td>\n",
              "      <td>0</td>\n",
              "      <td>0</td>\n",
              "      <td>0</td>\n",
              "      <td>0</td>\n",
              "      <td>0</td>\n",
              "    </tr>\n",
              "    <tr>\n",
              "      <th>4748</th>\n",
              "      <td>Eva Ibbotson</td>\n",
              "      <td>The Dragonfly Pool</td>\n",
              "      <td>Tally Hamilton is furious to hear she is being...</td>\n",
              "      <td>4.00</td>\n",
              "      <td>3799</td>\n",
              "      <td>418</td>\n",
              "      <td>Historical|Historical Fiction|Young Adult|Chil...</td>\n",
              "      <td>0.04</td>\n",
              "      <td>0.46</td>\n",
              "      <td>0.19</td>\n",
              "      <td>0.19</td>\n",
              "      <td>0.12</td>\n",
              "      <td>0.200</td>\n",
              "      <td>0</td>\n",
              "      <td>0</td>\n",
              "      <td>0</td>\n",
              "      <td>0</td>\n",
              "      <td>0</td>\n",
              "      <td>0</td>\n",
              "      <td>0</td>\n",
              "      <td>0</td>\n",
              "      <td>0</td>\n",
              "      <td>0</td>\n",
              "      <td>0</td>\n",
              "      <td>0</td>\n",
              "      <td>0</td>\n",
              "      <td>0</td>\n",
              "      <td>0</td>\n",
              "      <td>0</td>\n",
              "      <td>0</td>\n",
              "      <td>0</td>\n",
              "      <td>0</td>\n",
              "      <td>0</td>\n",
              "      <td>0</td>\n",
              "      <td>0</td>\n",
              "      <td>0</td>\n",
              "      <td>0</td>\n",
              "      <td>0</td>\n",
              "      <td>0</td>\n",
              "      <td>0</td>\n",
              "      <td>...</td>\n",
              "      <td>0</td>\n",
              "      <td>0</td>\n",
              "      <td>0</td>\n",
              "      <td>0</td>\n",
              "      <td>0</td>\n",
              "      <td>0</td>\n",
              "      <td>0</td>\n",
              "      <td>0</td>\n",
              "      <td>0</td>\n",
              "      <td>0</td>\n",
              "      <td>0</td>\n",
              "      <td>0</td>\n",
              "      <td>0</td>\n",
              "      <td>0</td>\n",
              "      <td>0</td>\n",
              "      <td>0</td>\n",
              "      <td>0</td>\n",
              "      <td>0</td>\n",
              "      <td>0</td>\n",
              "      <td>0</td>\n",
              "      <td>0</td>\n",
              "      <td>0</td>\n",
              "      <td>0</td>\n",
              "      <td>0</td>\n",
              "      <td>0</td>\n",
              "      <td>0</td>\n",
              "      <td>0</td>\n",
              "      <td>0</td>\n",
              "      <td>0</td>\n",
              "      <td>0</td>\n",
              "      <td>0</td>\n",
              "      <td>0</td>\n",
              "      <td>0</td>\n",
              "      <td>0</td>\n",
              "      <td>1</td>\n",
              "      <td>0</td>\n",
              "      <td>0</td>\n",
              "      <td>0</td>\n",
              "      <td>0</td>\n",
              "      <td>0</td>\n",
              "    </tr>\n",
              "    <tr>\n",
              "      <th>4749</th>\n",
              "      <td>Fábio Moon</td>\n",
              "      <td>Daytripper</td>\n",
              "      <td>What are the most important days of your life?...</td>\n",
              "      <td>4.30</td>\n",
              "      <td>21965</td>\n",
              "      <td>2029</td>\n",
              "      <td>Sequential Art|Graphic Novels|Sequential Art|C...</td>\n",
              "      <td>0.03</td>\n",
              "      <td>0.32</td>\n",
              "      <td>0.26</td>\n",
              "      <td>0.11</td>\n",
              "      <td>0.29</td>\n",
              "      <td>0.202</td>\n",
              "      <td>0</td>\n",
              "      <td>0</td>\n",
              "      <td>0</td>\n",
              "      <td>0</td>\n",
              "      <td>0</td>\n",
              "      <td>0</td>\n",
              "      <td>0</td>\n",
              "      <td>0</td>\n",
              "      <td>0</td>\n",
              "      <td>0</td>\n",
              "      <td>0</td>\n",
              "      <td>0</td>\n",
              "      <td>0</td>\n",
              "      <td>0</td>\n",
              "      <td>0</td>\n",
              "      <td>0</td>\n",
              "      <td>0</td>\n",
              "      <td>0</td>\n",
              "      <td>0</td>\n",
              "      <td>0</td>\n",
              "      <td>0</td>\n",
              "      <td>0</td>\n",
              "      <td>0</td>\n",
              "      <td>0</td>\n",
              "      <td>0</td>\n",
              "      <td>0</td>\n",
              "      <td>0</td>\n",
              "      <td>...</td>\n",
              "      <td>0</td>\n",
              "      <td>0</td>\n",
              "      <td>0</td>\n",
              "      <td>0</td>\n",
              "      <td>0</td>\n",
              "      <td>0</td>\n",
              "      <td>0</td>\n",
              "      <td>0</td>\n",
              "      <td>0</td>\n",
              "      <td>0</td>\n",
              "      <td>0</td>\n",
              "      <td>0</td>\n",
              "      <td>0</td>\n",
              "      <td>0</td>\n",
              "      <td>0</td>\n",
              "      <td>0</td>\n",
              "      <td>0</td>\n",
              "      <td>0</td>\n",
              "      <td>0</td>\n",
              "      <td>0</td>\n",
              "      <td>0</td>\n",
              "      <td>0</td>\n",
              "      <td>0</td>\n",
              "      <td>0</td>\n",
              "      <td>0</td>\n",
              "      <td>0</td>\n",
              "      <td>0</td>\n",
              "      <td>0</td>\n",
              "      <td>0</td>\n",
              "      <td>0</td>\n",
              "      <td>0</td>\n",
              "      <td>0</td>\n",
              "      <td>0</td>\n",
              "      <td>0</td>\n",
              "      <td>0</td>\n",
              "      <td>0</td>\n",
              "      <td>0</td>\n",
              "      <td>0</td>\n",
              "      <td>0</td>\n",
              "      <td>0</td>\n",
              "    </tr>\n",
              "    <tr>\n",
              "      <th>4750</th>\n",
              "      <td>Peter Singer</td>\n",
              "      <td>Animal Liberation</td>\n",
              "      <td>The Book That Started A Revolution. Since its ...</td>\n",
              "      <td>4.21</td>\n",
              "      <td>5641</td>\n",
              "      <td>401</td>\n",
              "      <td>Philosophy|Nonfiction|Animals|Fo</td>\n",
              "      <td>0.00</td>\n",
              "      <td>0.47</td>\n",
              "      <td>0.12</td>\n",
              "      <td>0.35</td>\n",
              "      <td>0.06</td>\n",
              "      <td>0.200</td>\n",
              "      <td>0</td>\n",
              "      <td>0</td>\n",
              "      <td>0</td>\n",
              "      <td>0</td>\n",
              "      <td>0</td>\n",
              "      <td>0</td>\n",
              "      <td>0</td>\n",
              "      <td>0</td>\n",
              "      <td>0</td>\n",
              "      <td>0</td>\n",
              "      <td>0</td>\n",
              "      <td>0</td>\n",
              "      <td>0</td>\n",
              "      <td>0</td>\n",
              "      <td>0</td>\n",
              "      <td>0</td>\n",
              "      <td>0</td>\n",
              "      <td>0</td>\n",
              "      <td>0</td>\n",
              "      <td>0</td>\n",
              "      <td>0</td>\n",
              "      <td>0</td>\n",
              "      <td>0</td>\n",
              "      <td>0</td>\n",
              "      <td>0</td>\n",
              "      <td>0</td>\n",
              "      <td>0</td>\n",
              "      <td>...</td>\n",
              "      <td>0</td>\n",
              "      <td>0</td>\n",
              "      <td>0</td>\n",
              "      <td>0</td>\n",
              "      <td>0</td>\n",
              "      <td>0</td>\n",
              "      <td>0</td>\n",
              "      <td>0</td>\n",
              "      <td>0</td>\n",
              "      <td>0</td>\n",
              "      <td>0</td>\n",
              "      <td>0</td>\n",
              "      <td>0</td>\n",
              "      <td>0</td>\n",
              "      <td>0</td>\n",
              "      <td>0</td>\n",
              "      <td>0</td>\n",
              "      <td>0</td>\n",
              "      <td>0</td>\n",
              "      <td>0</td>\n",
              "      <td>0</td>\n",
              "      <td>0</td>\n",
              "      <td>0</td>\n",
              "      <td>0</td>\n",
              "      <td>0</td>\n",
              "      <td>0</td>\n",
              "      <td>0</td>\n",
              "      <td>0</td>\n",
              "      <td>0</td>\n",
              "      <td>0</td>\n",
              "      <td>0</td>\n",
              "      <td>0</td>\n",
              "      <td>0</td>\n",
              "      <td>0</td>\n",
              "      <td>0</td>\n",
              "      <td>0</td>\n",
              "      <td>0</td>\n",
              "      <td>0</td>\n",
              "      <td>0</td>\n",
              "      <td>0</td>\n",
              "    </tr>\n",
              "  </tbody>\n",
              "</table>\n",
              "<p>4751 rows × 442 columns</p>\n",
              "</div>"
            ],
            "text/plain": [
              "          book_authors  ... Zombies\n",
              "0      Suzanne Collins  ...       0\n",
              "1         J.K. Rowling  ...       0\n",
              "2           Harper Lee  ...       0\n",
              "3      Stephenie Meyer  ...       0\n",
              "4         Markus Zusak  ...       0\n",
              "...                ...  ...     ...\n",
              "4746      Steve Kluger  ...       0\n",
              "4747  Kimberly Derting  ...       0\n",
              "4748      Eva Ibbotson  ...       0\n",
              "4749        Fábio Moon  ...       0\n",
              "4750      Peter Singer  ...       0\n",
              "\n",
              "[4751 rows x 442 columns]"
            ]
          },
          "metadata": {
            "tags": []
          },
          "execution_count": 4
        }
      ]
    },
    {
      "cell_type": "code",
      "metadata": {
        "id": "vETqOUPhsG7m"
      },
      "source": [
        "columns = ds.columns.drop(labels=['book_title', 'book_authors', 'book_desc', \n",
        "                                  'book_title', 'genres', 'emotion_index', \n",
        "                                  'book_rating', 'book_rating_count', \n",
        "                                  'book_review_count'])"
      ],
      "execution_count": 5,
      "outputs": []
    },
    {
      "cell_type": "code",
      "metadata": {
        "id": "l1W2KoQOsWxt"
      },
      "source": [
        "X = ds[[c for c in columns]]\n",
        "y = ds['book_rating']"
      ],
      "execution_count": 6,
      "outputs": []
    },
    {
      "cell_type": "markdown",
      "metadata": {
        "id": "uRABFW5nsf5q"
      },
      "source": [
        "## **Correlation**"
      ]
    },
    {
      "cell_type": "code",
      "metadata": {
        "id": "_umUycnqsrC7"
      },
      "source": [
        "import matplotlib.pyplot as plt\n",
        "import seaborn as sb\n",
        "from scipy.stats import pearsonr"
      ],
      "execution_count": 7,
      "outputs": []
    },
    {
      "cell_type": "code",
      "metadata": {
        "colab": {
          "base_uri": "https://localhost:8080/",
          "height": 295
        },
        "id": "oW0XSwpwssPj",
        "outputId": "321e2546-f302-4cfe-a71d-114f184f3bce"
      },
      "source": [
        "plt.xlabel('anger')\n",
        "plt.ylabel('rating')\n",
        "plt.scatter(ds['anger'], ds['book_rating'], color='red')"
      ],
      "execution_count": 8,
      "outputs": [
        {
          "output_type": "execute_result",
          "data": {
            "text/plain": [
              "<matplotlib.collections.PathCollection at 0x7f4721d1d1d0>"
            ]
          },
          "metadata": {
            "tags": []
          },
          "execution_count": 8
        },
        {
          "output_type": "display_data",
          "data": {
            "image/png": "[encoded data removed]",
            "text/plain": [
              "<Figure size 432x288 with 1 Axes>"
            ]
          },
          "metadata": {
            "tags": [],
            "needs_background": "light"
          }
        }
      ]
    },
    {
      "cell_type": "code",
      "metadata": {
        "colab": {
          "base_uri": "https://localhost:8080/",
          "height": 295
        },
        "id": "opArY14osuZs",
        "outputId": "b6364898-03b6-45f0-c925-003ca304ada0"
      },
      "source": [
        "plt.xlabel('fear')\n",
        "plt.ylabel('rating')\n",
        "plt.scatter(ds['fear'], ds['book_rating'], color='green')"
      ],
      "execution_count": 9,
      "outputs": [
        {
          "output_type": "execute_result",
          "data": {
            "text/plain": [
              "<matplotlib.collections.PathCollection at 0x7f47224f6410>"
            ]
          },
          "metadata": {
            "tags": []
          },
          "execution_count": 9
        },
        {
          "output_type": "display_data",
          "data": {
            "image/png": "[encoded data removed]",
            "text/plain": [
              "<Figure size 432x288 with 1 Axes>"
            ]
          },
          "metadata": {
            "tags": [],
            "needs_background": "light"
          }
        }
      ]
    },
    {
      "cell_type": "code",
      "metadata": {
        "colab": {
          "base_uri": "https://localhost:8080/",
          "height": 295
        },
        "id": "SQLeMRW1sxoi",
        "outputId": "8fdc5d05-cc2a-4dc0-f562-83878881bdb1"
      },
      "source": [
        "plt.xlabel('sadness')\n",
        "plt.ylabel('rating')\n",
        "plt.scatter(ds['sadness'], ds['book_rating'], color='blue')"
      ],
      "execution_count": 10,
      "outputs": [
        {
          "output_type": "execute_result",
          "data": {
            "text/plain": [
              "<matplotlib.collections.PathCollection at 0x7f4721767810>"
            ]
          },
          "metadata": {
            "tags": []
          },
          "execution_count": 10
        },
        {
          "output_type": "display_data",
          "data": {
            "image/png": "[encoded data removed]",
            "text/plain": [
              "<Figure size 432x288 with 1 Axes>"
            ]
          },
          "metadata": {
            "tags": [],
            "needs_background": "light"
          }
        }
      ]
    },
    {
      "cell_type": "code",
      "metadata": {
        "colab": {
          "base_uri": "https://localhost:8080/",
          "height": 295
        },
        "id": "tLih29rfs0kN",
        "outputId": "8c453879-3448-4df8-da3d-ecdbc0a918e2"
      },
      "source": [
        "plt.xlabel('happiness')\n",
        "plt.ylabel('rating')\n",
        "plt.scatter(ds['happiness'], ds['book_rating'], color='pink')"
      ],
      "execution_count": 11,
      "outputs": [
        {
          "output_type": "execute_result",
          "data": {
            "text/plain": [
              "<matplotlib.collections.PathCollection at 0x7f472174d910>"
            ]
          },
          "metadata": {
            "tags": []
          },
          "execution_count": 11
        },
        {
          "output_type": "display_data",
          "data": {
            "image/png": "[encoded data removed]",
            "text/plain": [
              "<Figure size 432x288 with 1 Axes>"
            ]
          },
          "metadata": {
            "tags": [],
            "needs_background": "light"
          }
        }
      ]
    },
    {
      "cell_type": "code",
      "metadata": {
        "colab": {
          "base_uri": "https://localhost:8080/",
          "height": 295
        },
        "id": "TEQbAVJps6Mu",
        "outputId": "40f8bbba-6e67-41b7-9eb7-502423f55cd3"
      },
      "source": [
        "plt.xlabel('surprise')\n",
        "plt.ylabel('rating')\n",
        "plt.scatter(ds['surprise'], ds['book_rating'], color='purple')"
      ],
      "execution_count": 14,
      "outputs": [
        {
          "output_type": "execute_result",
          "data": {
            "text/plain": [
              "<matplotlib.collections.PathCollection at 0x7f47214ec4d0>"
            ]
          },
          "metadata": {
            "tags": []
          },
          "execution_count": 14
        },
        {
          "output_type": "display_data",
          "data": {
            "image/png": "[encoded data removed]",
            "text/plain": [
              "<Figure size 432x288 with 1 Axes>"
            ]
          },
          "metadata": {
            "tags": [],
            "needs_background": "light"
          }
        }
      ]
    },
    {
      "cell_type": "code",
      "metadata": {
        "colab": {
          "base_uri": "https://localhost:8080/",
          "height": 335
        },
        "id": "6KPb3jxvs7pD",
        "outputId": "6153664d-64e2-4655-b80c-855f601e7581"
      },
      "source": [
        "pearsoncorr = ds[['book_rating', 'anger', 'fear', 'happiness', \n",
        "                  'sadness', 'surprise']].corr(method='pearson')\n",
        "sb.heatmap(pearsoncorr, xticklabels=pearsoncorr.columns, \n",
        "           yticklabels=pearsoncorr.columns, cmap='RdBu_r', \n",
        "           annot=True, linewidth=0.5)"
      ],
      "execution_count": 13,
      "outputs": [
        {
          "output_type": "execute_result",
          "data": {
            "text/plain": [
              "<matplotlib.axes._subplots.AxesSubplot at 0x7f4721673b10>"
            ]
          },
          "metadata": {
            "tags": []
          },
          "execution_count": 13
        },
        {
          "output_type": "display_data",
          "data": {
            "image/png": "[encoded data removed]",
            "text/plain": [
              "<Figure size 432x288 with 2 Axes>"
            ]
          },
          "metadata": {
            "tags": [],
            "needs_background": "light"
          }
        }
      ]
    },
    {
      "cell_type": "markdown",
      "metadata": {
        "id": "qQ9B-sUvtJ_F"
      },
      "source": [
        "## **K-Fold Cross-validation**"
      ]
    },
    {
      "cell_type": "code",
      "metadata": {
        "id": "P1tEzbIYtVnT"
      },
      "source": [
        "from sklearn.linear_model import LinearRegression\n",
        "from sklearn.linear_model import LassoCV\n",
        "from sklearn.linear_model import Lasso\n",
        "from sklearn.linear_model import RidgeCV\n",
        "from sklearn.linear_model import ElasticNetCV\n",
        "from sklearn.linear_model import ElasticNet\n",
        "from sklearn.ensemble import RandomForestRegressor\n",
        "from sklearn.tree import DecisionTreeRegressor\n",
        "from sklearn.model_selection import train_test_split\n",
        "from sklearn.model_selection import cross_val_score\n",
        "from sklearn.model_selection import KFold\n",
        "from sklearn import model_selection\n",
        "from sklearn.metrics import r2_score\n",
        "from sklearn.metrics import mean_absolute_error\n",
        "from sklearn.preprocessing import RobustScaler\n",
        "from sklearn.metrics import mean_squared_error\n",
        "from math import sqrt\n",
        "from sklearn.preprocessing import StandardScaler\n",
        "from sklearn.linear_model import Ridge\n",
        "from sklearn.svm import SVR\n",
        "from sklearn.model_selection import cross_validate\n",
        "from sklearn.preprocessing import StandardScaler\n",
        "from sklearn.model_selection import GridSearchCV\n",
        "from sklearn.pipeline import make_pipeline\n",
        "from sklearn.metrics import make_scorer"
      ],
      "execution_count": 15,
      "outputs": []
    },
    {
      "cell_type": "code",
      "metadata": {
        "id": "4MqLydjZtXRi"
      },
      "source": [
        "X_train, X_test, y_train, y_test = train_test_split(X, y, test_size=0.3, random_state=1)"
      ],
      "execution_count": 16,
      "outputs": []
    },
    {
      "cell_type": "code",
      "metadata": {
        "id": "NhsleVKRt2Ww"
      },
      "source": [
        "cv = KFold(n_splits=10, random_state=1, shuffle=True)"
      ],
      "execution_count": 19,
      "outputs": []
    },
    {
      "cell_type": "markdown",
      "metadata": {
        "id": "3PKOVu38td_i"
      },
      "source": [
        "### **Choosing parameters**"
      ]
    },
    {
      "cell_type": "markdown",
      "metadata": {
        "id": "c9SjnVyAtjm0"
      },
      "source": [
        "#### *Ridge*"
      ]
    },
    {
      "cell_type": "code",
      "metadata": {
        "colab": {
          "base_uri": "https://localhost:8080/"
        },
        "id": "7qfWh3wpthoD",
        "outputId": "74be5f19-9dcd-4f75-ebb6-90dd48fb27ca"
      },
      "source": [
        "mdl_rd_cv = RidgeCV(alphas=[0.1, 1, 10, 50, 100, 900, 1e3, 1e6], store_cv_values=True).fit(X, y)\n",
        "rd_alpha = mdl_rd_cv.alpha_\n",
        "rd_alpha"
      ],
      "execution_count": 17,
      "outputs": [
        {
          "output_type": "execute_result",
          "data": {
            "text/plain": [
              "10.0"
            ]
          },
          "metadata": {
            "tags": []
          },
          "execution_count": 17
        }
      ]
    },
    {
      "cell_type": "markdown",
      "metadata": {
        "id": "e9zJT47Xtt7d"
      },
      "source": [
        "#### *Lasso*"
      ]
    },
    {
      "cell_type": "code",
      "metadata": {
        "colab": {
          "base_uri": "https://localhost:8080/"
        },
        "id": "oEx1fFlUtxFs",
        "outputId": "1e7c26e5-f393-490a-acf0-3bb850f61e53"
      },
      "source": [
        "mdl_ls_cv = LassoCV(cv=cv, n_jobs=-1).fit(X, y)\n",
        "ls_alpha = mdl_ls_cv.alpha_\n",
        "ls_alpha"
      ],
      "execution_count": 20,
      "outputs": [
        {
          "output_type": "execute_result",
          "data": {
            "text/plain": [
              "0.00016510663276418522"
            ]
          },
          "metadata": {
            "tags": []
          },
          "execution_count": 20
        }
      ]
    },
    {
      "cell_type": "markdown",
      "metadata": {
        "id": "Ag61K_CKuBL-"
      },
      "source": [
        "#### *Elastic Net*"
      ]
    },
    {
      "cell_type": "code",
      "metadata": {
        "colab": {
          "base_uri": "https://localhost:8080/"
        },
        "id": "IwHqQBeeuEXi",
        "outputId": "1cfbc717-ad09-4c47-b1ae-a67180366f55"
      },
      "source": [
        "mdl_en_cv = ElasticNetCV(l1_ratio=[1, 0.5, 0.2, 0.3, 0.4, 0.01], n_alphas=100, cv=cv, n_jobs=-1).fit(X, y)\n",
        "en_alpha = mdl_en_cv.alpha_\n",
        "en_l1 = mdl_en_cv.l1_ratio_\n",
        "print(en_l1)\n",
        "print(en_alpha)"
      ],
      "execution_count": 21,
      "outputs": [
        {
          "output_type": "stream",
          "text": [
            "0.01\n",
            "0.0030937968510334124\n"
          ],
          "name": "stdout"
        }
      ]
    },
    {
      "cell_type": "markdown",
      "metadata": {
        "id": "e2rD8EVUuRqy"
      },
      "source": [
        "#### *Decision Tree*"
      ]
    },
    {
      "cell_type": "code",
      "metadata": {
        "colab": {
          "base_uri": "https://localhost:8080/"
        },
        "id": "DriSbTMduVcm",
        "outputId": "f730e18d-8d62-4d7a-c055-375953232e29"
      },
      "source": [
        "scorer = make_scorer(mean_squared_error, greater_is_better=False)\n",
        "pipe_tree = make_pipeline(DecisionTreeRegressor(random_state=1))\n",
        "depths = np.arange(1, 21)\n",
        "num_leafs = [1, 5, 10, 20, 50, 100]\n",
        "param_grid = [{'decisiontreeregressor__max_depth': depths, \n",
        "               'decisiontreeregressor__min_samples_leaf': num_leafs}]\n",
        "gs_dt = GridSearchCV(estimator=pipe_tree, param_grid=param_grid, \n",
        "                     scoring=scorer, cv=10).fit(X, y)\n",
        "gs_dt_params = gs_dt.best_params_\n",
        "gs_dt_params"
      ],
      "execution_count": 24,
      "outputs": [
        {
          "output_type": "execute_result",
          "data": {
            "text/plain": [
              "{'decisiontreeregressor__max_depth': 7,\n",
              " 'decisiontreeregressor__min_samples_leaf': 10}"
            ]
          },
          "metadata": {
            "tags": []
          },
          "execution_count": 24
        }
      ]
    },
    {
      "cell_type": "markdown",
      "metadata": {
        "id": "-Elfa0f7uaJd"
      },
      "source": [
        "#### *Random Forest*"
      ]
    },
    {
      "cell_type": "code",
      "metadata": {
        "colab": {
          "base_uri": "https://localhost:8080/"
        },
        "id": "Rp2sL6kgufYi",
        "outputId": "f98e3ddc-cad1-4d48-9ed4-444e9b1de1ff"
      },
      "source": [
        "param_grid = {'bootstrap': [True], 'max_depth': [80, 90, 100, 110], \n",
        "              'max_features': [2, 3], 'min_samples_leaf': [3, 4, 5], \n",
        "              'min_samples_split': [8, 10, 12], \n",
        "              'n_estimators': [100, 200, 300, 1000]}\n",
        "mdl_rf_cv = RandomForestRegressor()\n",
        "gs_rf = GridSearchCV(estimator = mdl_rf_cv, param_grid = param_grid, \n",
        "                     cv = 10, n_jobs = -1, verbose = 2).fit(X, y)\n",
        "gs_rf_params = gs_rf.best_params_\n",
        "gs_rf_params"
      ],
      "execution_count": 25,
      "outputs": [
        {
          "output_type": "stream",
          "text": [
            "Fitting 10 folds for each of 288 candidates, totalling 2880 fits\n"
          ],
          "name": "stdout"
        },
        {
          "output_type": "stream",
          "text": [
            "[Parallel(n_jobs=-1)]: Using backend LokyBackend with 2 concurrent workers.\n",
            "[Parallel(n_jobs=-1)]: Done  37 tasks      | elapsed:   21.4s\n",
            "[Parallel(n_jobs=-1)]: Done 158 tasks      | elapsed:  1.5min\n",
            "[Parallel(n_jobs=-1)]: Done 361 tasks      | elapsed:  3.4min\n",
            "[Parallel(n_jobs=-1)]: Done 644 tasks      | elapsed:  6.4min\n",
            "[Parallel(n_jobs=-1)]: Done 1009 tasks      | elapsed:  9.9min\n",
            "[Parallel(n_jobs=-1)]: Done 1454 tasks      | elapsed: 14.5min\n",
            "[Parallel(n_jobs=-1)]: Done 1981 tasks      | elapsed: 19.7min\n",
            "[Parallel(n_jobs=-1)]: Done 2588 tasks      | elapsed: 25.7min\n",
            "[Parallel(n_jobs=-1)]: Done 2880 out of 2880 | elapsed: 28.9min finished\n"
          ],
          "name": "stderr"
        },
        {
          "output_type": "execute_result",
          "data": {
            "text/plain": [
              "{'bootstrap': True,\n",
              " 'max_depth': 80,\n",
              " 'max_features': 3,\n",
              " 'min_samples_leaf': 3,\n",
              " 'min_samples_split': 12,\n",
              " 'n_estimators': 300}"
            ]
          },
          "metadata": {
            "tags": []
          },
          "execution_count": 25
        }
      ]
    },
    {
      "cell_type": "markdown",
      "metadata": {
        "id": "sCOvhDgyukVg"
      },
      "source": [
        "### **Cross-validation implementation**"
      ]
    },
    {
      "cell_type": "code",
      "metadata": {
        "id": "9Cyf8q55usLk"
      },
      "source": [
        "results_kf = {'model': ['linear regression', 'ridge', 'lasso', \n",
        "                       'elastic net', 'decision tree', 'random forest'], \n",
        "           'fit_time': [],\n",
        "           'score_time': [],\n",
        "           'test_r2': [],\n",
        "           'test_mse': [],\n",
        "           'test_rmse': []}"
      ],
      "execution_count": 30,
      "outputs": []
    },
    {
      "cell_type": "code",
      "metadata": {
        "id": "0vL_PqrSvE2r"
      },
      "source": [
        "def cross_val(model, results):\n",
        "  model.fit(X, y)\n",
        "  scores = cross_validate(model, X, y, \n",
        "                          scoring=('r2', 'neg_mean_squared_error'), \n",
        "                          cv=cv, n_jobs=-1)\n",
        "  results['fit_time'].append(np.mean(scores['fit_time']))\n",
        "  results['score_time'].append(np.mean(scores['score_time']))\n",
        "  results['test_r2'].append(np.mean(scores['test_r2']))\n",
        "  results['test_mse'].append(np.abs(np.mean(scores['test_neg_mean_squared_error'])))\n",
        "  results['test_rmse'].append(np.sqrt(np.abs(np.mean(scores['test_neg_mean_squared_error']))))\n",
        "  return results"
      ],
      "execution_count": 31,
      "outputs": []
    },
    {
      "cell_type": "code",
      "metadata": {
        "id": "T3xyGr600RjA"
      },
      "source": [
        "models = [LinearRegression(), Ridge(alpha=rd_alpha), Lasso(alpha=ls_alpha), \n",
        "          ElasticNet(alpha=en_alpha, l1_ratio=en_l1), \n",
        "          DecisionTreeRegressor(criterion='mse', \n",
        "                                max_depth=gs_dt_params['decisiontreeregressor__max_depth'], \n",
        "                                min_samples_leaf=gs_dt_params['decisiontreeregressor__min_samples_leaf']), \n",
        "          RandomForestRegressor(n_estimators=gs_rf_params['n_estimators'], criterion='mse', max_depth=gs_rf_params['max_depth'], \n",
        "                               min_samples_split=gs_rf_params['min_samples_split'], min_samples_leaf=gs_rf_params['min_samples_leaf'], \n",
        "                                max_features=gs_rf_params['max_features'], bootstrap=gs_rf_params['bootstrap'])]\n",
        "for m in models:\n",
        "  cross_val(m, results_kf)"
      ],
      "execution_count": 34,
      "outputs": []
    },
    {
      "cell_type": "code",
      "metadata": {
        "colab": {
          "base_uri": "https://localhost:8080/"
        },
        "id": "lRKoe86e0gs8",
        "outputId": "90cb7916-ab67-44a7-925f-d7e62d25119a"
      },
      "source": [
        "results_kf"
      ],
      "execution_count": 35,
      "outputs": [
        {
          "output_type": "execute_result",
          "data": {
            "text/plain": [
              "{'fit_time': [0.33081152439117434,\n",
              "  0.0855320930480957,\n",
              "  0.2974380016326904,\n",
              "  0.219018292427063,\n",
              "  0.09951786994934082,\n",
              "  0.9896657466888428],\n",
              " 'model': ['linear regression',\n",
              "  'ridge',\n",
              "  'lasso',\n",
              "  'elastic net',\n",
              "  'decision tree',\n",
              "  'random forest'],\n",
              " 'score_time': [0.004767608642578125,\n",
              "  0.005186891555786133,\n",
              "  0.005107235908508301,\n",
              "  0.004914927482604981,\n",
              "  0.004800176620483399,\n",
              "  0.04377467632293701],\n",
              " 'test_mse': [3.7809180836344476e+20,\n",
              "  0.04638897550676446,\n",
              "  0.04665076808237477,\n",
              "  0.04634003770406117,\n",
              "  0.04985173839195582,\n",
              "  0.054722655904868675],\n",
              " 'test_r2': [-7.110937955249327e+21,\n",
              "  0.18591969284576632,\n",
              "  0.18120372584653033,\n",
              "  0.18669907050026543,\n",
              "  0.12477353825302902,\n",
              "  0.03927386088058852],\n",
              " 'test_rmse': [19444583008.21709,\n",
              "  0.21538100080268097,\n",
              "  0.21598788874002814,\n",
              "  0.2152673633044758,\n",
              "  0.22327502859020268,\n",
              "  0.23392874108340914]}"
            ]
          },
          "metadata": {
            "tags": []
          },
          "execution_count": 35
        }
      ]
    },
    {
      "cell_type": "code",
      "metadata": {
        "id": "BNZkKulz0kwn"
      },
      "source": [
        "cv_results = pd.DataFrame(results_kf)"
      ],
      "execution_count": 52,
      "outputs": []
    },
    {
      "cell_type": "code",
      "metadata": {
        "colab": {
          "base_uri": "https://localhost:8080/",
          "height": 228
        },
        "id": "sVJIxVKV0nmv",
        "outputId": "7da35b45-fb92-4e3e-bd85-e19aa7edbab2"
      },
      "source": [
        "cv_results"
      ],
      "execution_count": 53,
      "outputs": [
        {
          "output_type": "execute_result",
          "data": {
            "text/html": [
              "<div>\n",
              "<style scoped>\n",
              "    .dataframe tbody tr th:only-of-type {\n",
              "        vertical-align: middle;\n",
              "    }\n",
              "\n",
              "    .dataframe tbody tr th {\n",
              "        vertical-align: top;\n",
              "    }\n",
              "\n",
              "    .dataframe thead th {\n",
              "        text-align: right;\n",
              "    }\n",
              "</style>\n",
              "<table border=\"1\" class=\"dataframe\">\n",
              "  <thead>\n",
              "    <tr style=\"text-align: right;\">\n",
              "      <th></th>\n",
              "      <th>model</th>\n",
              "      <th>fit_time</th>\n",
              "      <th>score_time</th>\n",
              "      <th>test_r2</th>\n",
              "      <th>test_mse</th>\n",
              "      <th>test_rmse</th>\n",
              "    </tr>\n",
              "  </thead>\n",
              "  <tbody>\n",
              "    <tr>\n",
              "      <th>0</th>\n",
              "      <td>linear regression</td>\n",
              "      <td>0.330812</td>\n",
              "      <td>0.004768</td>\n",
              "      <td>-7.110938e+21</td>\n",
              "      <td>3.780918e+20</td>\n",
              "      <td>1.944458e+10</td>\n",
              "    </tr>\n",
              "    <tr>\n",
              "      <th>1</th>\n",
              "      <td>ridge</td>\n",
              "      <td>0.085532</td>\n",
              "      <td>0.005187</td>\n",
              "      <td>1.859197e-01</td>\n",
              "      <td>4.638898e-02</td>\n",
              "      <td>2.153810e-01</td>\n",
              "    </tr>\n",
              "    <tr>\n",
              "      <th>2</th>\n",
              "      <td>lasso</td>\n",
              "      <td>0.297438</td>\n",
              "      <td>0.005107</td>\n",
              "      <td>1.812037e-01</td>\n",
              "      <td>4.665077e-02</td>\n",
              "      <td>2.159879e-01</td>\n",
              "    </tr>\n",
              "    <tr>\n",
              "      <th>3</th>\n",
              "      <td>elastic net</td>\n",
              "      <td>0.219018</td>\n",
              "      <td>0.004915</td>\n",
              "      <td>1.866991e-01</td>\n",
              "      <td>4.634004e-02</td>\n",
              "      <td>2.152674e-01</td>\n",
              "    </tr>\n",
              "    <tr>\n",
              "      <th>4</th>\n",
              "      <td>decision tree</td>\n",
              "      <td>0.099518</td>\n",
              "      <td>0.004800</td>\n",
              "      <td>1.247735e-01</td>\n",
              "      <td>4.985174e-02</td>\n",
              "      <td>2.232750e-01</td>\n",
              "    </tr>\n",
              "    <tr>\n",
              "      <th>5</th>\n",
              "      <td>random forest</td>\n",
              "      <td>0.989666</td>\n",
              "      <td>0.043775</td>\n",
              "      <td>3.927386e-02</td>\n",
              "      <td>5.472266e-02</td>\n",
              "      <td>2.339287e-01</td>\n",
              "    </tr>\n",
              "  </tbody>\n",
              "</table>\n",
              "</div>"
            ],
            "text/plain": [
              "               model  fit_time  ...      test_mse     test_rmse\n",
              "0  linear regression  0.330812  ...  3.780918e+20  1.944458e+10\n",
              "1              ridge  0.085532  ...  4.638898e-02  2.153810e-01\n",
              "2              lasso  0.297438  ...  4.665077e-02  2.159879e-01\n",
              "3        elastic net  0.219018  ...  4.634004e-02  2.152674e-01\n",
              "4      decision tree  0.099518  ...  4.985174e-02  2.232750e-01\n",
              "5      random forest  0.989666  ...  5.472266e-02  2.339287e-01\n",
              "\n",
              "[6 rows x 6 columns]"
            ]
          },
          "metadata": {
            "tags": []
          },
          "execution_count": 53
        }
      ]
    },
    {
      "cell_type": "code",
      "metadata": {
        "colab": {
          "base_uri": "https://localhost:8080/",
          "height": 228
        },
        "id": "J1IogC3K3roE",
        "outputId": "62e9e245-fd22-48e1-bb3a-ab6e80f80844"
      },
      "source": [
        "cv_results.drop(['test_rmse'], axis=1)"
      ],
      "execution_count": 54,
      "outputs": [
        {
          "output_type": "execute_result",
          "data": {
            "text/html": [
              "<div>\n",
              "<style scoped>\n",
              "    .dataframe tbody tr th:only-of-type {\n",
              "        vertical-align: middle;\n",
              "    }\n",
              "\n",
              "    .dataframe tbody tr th {\n",
              "        vertical-align: top;\n",
              "    }\n",
              "\n",
              "    .dataframe thead th {\n",
              "        text-align: right;\n",
              "    }\n",
              "</style>\n",
              "<table border=\"1\" class=\"dataframe\">\n",
              "  <thead>\n",
              "    <tr style=\"text-align: right;\">\n",
              "      <th></th>\n",
              "      <th>model</th>\n",
              "      <th>fit_time</th>\n",
              "      <th>score_time</th>\n",
              "      <th>test_r2</th>\n",
              "      <th>test_mse</th>\n",
              "    </tr>\n",
              "  </thead>\n",
              "  <tbody>\n",
              "    <tr>\n",
              "      <th>0</th>\n",
              "      <td>linear regression</td>\n",
              "      <td>0.330812</td>\n",
              "      <td>0.004768</td>\n",
              "      <td>-7.110938e+21</td>\n",
              "      <td>3.780918e+20</td>\n",
              "    </tr>\n",
              "    <tr>\n",
              "      <th>1</th>\n",
              "      <td>ridge</td>\n",
              "      <td>0.085532</td>\n",
              "      <td>0.005187</td>\n",
              "      <td>1.859197e-01</td>\n",
              "      <td>4.638898e-02</td>\n",
              "    </tr>\n",
              "    <tr>\n",
              "      <th>2</th>\n",
              "      <td>lasso</td>\n",
              "      <td>0.297438</td>\n",
              "      <td>0.005107</td>\n",
              "      <td>1.812037e-01</td>\n",
              "      <td>4.665077e-02</td>\n",
              "    </tr>\n",
              "    <tr>\n",
              "      <th>3</th>\n",
              "      <td>elastic net</td>\n",
              "      <td>0.219018</td>\n",
              "      <td>0.004915</td>\n",
              "      <td>1.866991e-01</td>\n",
              "      <td>4.634004e-02</td>\n",
              "    </tr>\n",
              "    <tr>\n",
              "      <th>4</th>\n",
              "      <td>decision tree</td>\n",
              "      <td>0.099518</td>\n",
              "      <td>0.004800</td>\n",
              "      <td>1.247735e-01</td>\n",
              "      <td>4.985174e-02</td>\n",
              "    </tr>\n",
              "    <tr>\n",
              "      <th>5</th>\n",
              "      <td>random forest</td>\n",
              "      <td>0.989666</td>\n",
              "      <td>0.043775</td>\n",
              "      <td>3.927386e-02</td>\n",
              "      <td>5.472266e-02</td>\n",
              "    </tr>\n",
              "  </tbody>\n",
              "</table>\n",
              "</div>"
            ],
            "text/plain": [
              "               model  fit_time  score_time       test_r2      test_mse\n",
              "0  linear regression  0.330812    0.004768 -7.110938e+21  3.780918e+20\n",
              "1              ridge  0.085532    0.005187  1.859197e-01  4.638898e-02\n",
              "2              lasso  0.297438    0.005107  1.812037e-01  4.665077e-02\n",
              "3        elastic net  0.219018    0.004915  1.866991e-01  4.634004e-02\n",
              "4      decision tree  0.099518    0.004800  1.247735e-01  4.985174e-02\n",
              "5      random forest  0.989666    0.043775  3.927386e-02  5.472266e-02"
            ]
          },
          "metadata": {
            "tags": []
          },
          "execution_count": 54
        }
      ]
    },
    {
      "cell_type": "markdown",
      "metadata": {
        "id": "Vdfa4mWOHyKo"
      },
      "source": [
        "## **Model loading**"
      ]
    },
    {
      "cell_type": "code",
      "metadata": {
        "id": "YYtgzhhLI7yP"
      },
      "source": [
        "import pickle"
      ],
      "execution_count": 59,
      "outputs": []
    },
    {
      "cell_type": "code",
      "metadata": {
        "colab": {
          "base_uri": "https://localhost:8080/"
        },
        "id": "7sHb38Q1IKkh",
        "outputId": "1419aa98-7573-4635-dca3-c9c30d77444c"
      },
      "source": [
        "model = ElasticNet(alpha=en_alpha, l1_ratio=en_l1)\n",
        "model.fit(X, y)"
      ],
      "execution_count": 57,
      "outputs": [
        {
          "output_type": "execute_result",
          "data": {
            "text/plain": [
              "ElasticNet(alpha=0.0030937968510334124, copy_X=True, fit_intercept=True,\n",
              "           l1_ratio=0.01, max_iter=1000, normalize=False, positive=False,\n",
              "           precompute=False, random_state=None, selection='cyclic', tol=0.0001,\n",
              "           warm_start=False)"
            ]
          },
          "metadata": {
            "tags": []
          },
          "execution_count": 57
        }
      ]
    },
    {
      "cell_type": "code",
      "metadata": {
        "id": "IZ-_WxPzI0bX"
      },
      "source": [
        "pickle.dump(model, open('model.pkl','wb'))"
      ],
      "execution_count": 60,
      "outputs": []
    },
    {
      "cell_type": "markdown",
      "metadata": {
        "id": "DIXpdOmhJRYK"
      },
      "source": [
        "## **check**"
      ]
    },
    {
      "cell_type": "code",
      "metadata": {
        "id": "nvx6jwJHJTg_"
      },
      "source": [
        "X_check = ds[['anger', 'fear', 'sadness', 'happiness', 'surprise']]\n",
        "y_check = y"
      ],
      "execution_count": 61,
      "outputs": []
    },
    {
      "cell_type": "code",
      "metadata": {
        "colab": {
          "base_uri": "https://localhost:8080/"
        },
        "id": "Yul6raAsJity",
        "outputId": "496f4d10-f400-446d-a2a6-faf523b35ba4"
      },
      "source": [
        "model_check = ElasticNet(alpha=en_alpha, l1_ratio=en_l1)\n",
        "model_check.fit(X_check, y_check)"
      ],
      "execution_count": 165,
      "outputs": [
        {
          "output_type": "execute_result",
          "data": {
            "text/plain": [
              "DecisionTreeRegressor(ccp_alpha=0.0, criterion='mse', max_depth=7,\n",
              "                      max_features=None, max_leaf_nodes=None,\n",
              "                      min_impurity_decrease=0.0, min_impurity_split=None,\n",
              "                      min_samples_leaf=10, min_samples_split=2,\n",
              "                      min_weight_fraction_leaf=0.0, presort='deprecated',\n",
              "                      random_state=None, splitter='best')"
            ]
          },
          "metadata": {
            "tags": []
          },
          "execution_count": 165
        }
      ]
    },
    {
      "cell_type": "code",
      "metadata": {
        "id": "7rCySmtLJrGZ"
      },
      "source": [
        "df = pd.DataFrame({'anger': [0.4], 'fear': [0.3], 'sadness': [0.1], 'happiness': [0.0], 'surprise': [0.2]})"
      ],
      "execution_count": 168,
      "outputs": []
    },
    {
      "cell_type": "code",
      "metadata": {
        "colab": {
          "base_uri": "https://localhost:8080/"
        },
        "id": "l84MbiewJyge",
        "outputId": "4f3e7d51-51a2-4077-8a3a-e4502b683c3e"
      },
      "source": [
        "model_check.predict(df)"
      ],
      "execution_count": 169,
      "outputs": [
        {
          "output_type": "execute_result",
          "data": {
            "text/plain": [
              "array([4.36272727])"
            ]
          },
          "metadata": {
            "tags": []
          },
          "execution_count": 169
        }
      ]
    }
  ]
}